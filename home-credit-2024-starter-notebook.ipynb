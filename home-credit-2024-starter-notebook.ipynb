{
 "cells": [
  {
   "cell_type": "markdown",
   "id": "6d177876",
   "metadata": {
    "_cell_guid": "b1076dfc-b9ad-4769-8c92-a6c4dae69d19",
    "_uuid": "8f2839f25d086af736a60e9eeb907d3b93b6e0e5",
    "papermill": {
     "duration": 0.010075,
     "end_time": "2024-04-29T20:09:37.117224",
     "exception": false,
     "start_time": "2024-04-29T20:09:37.107149",
     "status": "completed"
    },
    "tags": []
   },
   "source": [
    "# Example Notebook\n",
    "\n",
    "Welcome to the example notebook for the Home Credit Kaggle competition. The goal of this competition is to determine how likely a customer is going to default on an issued loan. The main difference between the [first](https://www.kaggle.com/c/home-credit-default-risk) and this competition is that now your submission will be scored with a custom metric that will take into account how well the model performs in future. A decline in performance will be penalized. The goal is to create a model that is stable and performs well in the future.\n",
    "\n",
    "In this notebook you will see how to:\n",
    "* Load the data\n",
    "* Join tables with Polars - a DataFrame library implemented in Rust language, designed to be blazingy fast and memory efficient.  \n",
    "* Create simple aggregation features\n",
    "* Train a LightGBM model\n",
    "* Create a submission table\n",
    "\n",
    "## Load the data"
   ]
  },
  {
   "cell_type": "code",
   "execution_count": 1,
   "id": "0854f3e6",
   "metadata": {
    "execution": {
     "iopub.execute_input": "2024-04-29T20:09:37.140395Z",
     "iopub.status.busy": "2024-04-29T20:09:37.139373Z",
     "iopub.status.idle": "2024-04-29T20:09:42.279165Z",
     "shell.execute_reply": "2024-04-29T20:09:42.277601Z"
    },
    "papermill": {
     "duration": 5.155149,
     "end_time": "2024-04-29T20:09:42.282626",
     "exception": false,
     "start_time": "2024-04-29T20:09:37.127477",
     "status": "completed"
    },
    "tags": []
   },
   "outputs": [],
   "source": [
    "import polars as pl\n",
    "import numpy as np\n",
    "import pandas as pd\n",
    "import lightgbm as lgb\n",
    "from sklearn.model_selection import train_test_split\n",
    "from sklearn.metrics import roc_auc_score \n",
    "\n",
    "dataPath = \"/kaggle/input/home-credit-credit-risk-model-stability/\""
   ]
  },
  {
   "cell_type": "code",
   "execution_count": 2,
   "id": "34ea8e9e",
   "metadata": {
    "execution": {
     "iopub.execute_input": "2024-04-29T20:09:42.306342Z",
     "iopub.status.busy": "2024-04-29T20:09:42.305194Z",
     "iopub.status.idle": "2024-04-29T20:09:42.318954Z",
     "shell.execute_reply": "2024-04-29T20:09:42.317644Z"
    },
    "papermill": {
     "duration": 0.028085,
     "end_time": "2024-04-29T20:09:42.321396",
     "exception": false,
     "start_time": "2024-04-29T20:09:42.293311",
     "status": "completed"
    },
    "tags": []
   },
   "outputs": [],
   "source": [
    "def set_table_dtypes(df: pl.DataFrame) -> pl.DataFrame:\n",
    "    for col in df.columns:\n",
    "        if col[-1] in (\"P\", \"A\"):\n",
    "            df = df.with_columns(pl.col(col).cast(pl.Float64).alias(col))\n",
    "\n",
    "    return df\n",
    "\n",
    "def convert_strings(df: pd.DataFrame) -> pd.DataFrame:\n",
    "    for col in df.columns:  \n",
    "        if df[col].dtype.name in ['object', 'string']:\n",
    "            df[col] = df[col].astype(\"string\").astype('category')\n",
    "            current_categories = df[col].cat.categories\n",
    "            new_categories = current_categories.to_list() + [\"Unknown\"]\n",
    "            new_dtype = pd.CategoricalDtype(categories=new_categories, ordered=True)\n",
    "            df[col] = df[col].astype(new_dtype)\n",
    "    return df"
   ]
  },
  {
   "cell_type": "code",
   "execution_count": 3,
   "id": "887f37ac",
   "metadata": {
    "execution": {
     "iopub.execute_input": "2024-04-29T20:09:42.344781Z",
     "iopub.status.busy": "2024-04-29T20:09:42.343606Z",
     "iopub.status.idle": "2024-04-29T20:10:04.752129Z",
     "shell.execute_reply": "2024-04-29T20:10:04.750912Z"
    },
    "papermill": {
     "duration": 22.424553,
     "end_time": "2024-04-29T20:10:04.755813",
     "exception": false,
     "start_time": "2024-04-29T20:09:42.331260",
     "status": "completed"
    },
    "tags": []
   },
   "outputs": [],
   "source": [
    "train_basetable = pl.read_csv(dataPath + \"csv_files/train/train_base.csv\")\n",
    "train_static = pl.concat(\n",
    "    [\n",
    "        pl.read_csv(dataPath + \"csv_files/train/train_static_0_0.csv\").pipe(set_table_dtypes),\n",
    "        pl.read_csv(dataPath + \"csv_files/train/train_static_0_1.csv\").pipe(set_table_dtypes),\n",
    "    ],\n",
    "    how=\"vertical_relaxed\",\n",
    ")\n",
    "train_static_cb = pl.read_csv(dataPath + \"csv_files/train/train_static_cb_0.csv\").pipe(set_table_dtypes)\n",
    "train_person_1 = pl.read_csv(dataPath + \"csv_files/train/train_person_1.csv\").pipe(set_table_dtypes) \n",
    "train_credit_bureau_b_2 = pl.read_csv(dataPath + \"csv_files/train/train_credit_bureau_b_2.csv\").pipe(set_table_dtypes) "
   ]
  },
  {
   "cell_type": "code",
   "execution_count": 4,
   "id": "9aedd241",
   "metadata": {
    "execution": {
     "iopub.execute_input": "2024-04-29T20:10:04.776496Z",
     "iopub.status.busy": "2024-04-29T20:10:04.775989Z",
     "iopub.status.idle": "2024-04-29T20:10:04.886255Z",
     "shell.execute_reply": "2024-04-29T20:10:04.884852Z"
    },
    "papermill": {
     "duration": 0.124196,
     "end_time": "2024-04-29T20:10:04.889450",
     "exception": false,
     "start_time": "2024-04-29T20:10:04.765254",
     "status": "completed"
    },
    "tags": []
   },
   "outputs": [],
   "source": [
    "test_basetable = pl.read_csv(dataPath + \"csv_files/test/test_base.csv\")\n",
    "test_static = pl.concat(\n",
    "    [\n",
    "        pl.read_csv(dataPath + \"csv_files/test/test_static_0_0.csv\").pipe(set_table_dtypes),\n",
    "        pl.read_csv(dataPath + \"csv_files/test/test_static_0_1.csv\").pipe(set_table_dtypes),\n",
    "        pl.read_csv(dataPath + \"csv_files/test/test_static_0_2.csv\").pipe(set_table_dtypes),\n",
    "    ],\n",
    "    how=\"vertical_relaxed\",\n",
    ")\n",
    "test_static_cb = pl.read_csv(dataPath + \"csv_files/test/test_static_cb_0.csv\").pipe(set_table_dtypes)\n",
    "test_person_1 = pl.read_csv(dataPath + \"csv_files/test/test_person_1.csv\").pipe(set_table_dtypes) \n",
    "test_credit_bureau_b_2 = pl.read_csv(dataPath + \"csv_files/test/test_credit_bureau_b_2.csv\").pipe(set_table_dtypes) "
   ]
  },
  {
   "cell_type": "markdown",
   "id": "8111738b",
   "metadata": {
    "papermill": {
     "duration": 0.008911,
     "end_time": "2024-04-29T20:10:04.907644",
     "exception": false,
     "start_time": "2024-04-29T20:10:04.898733",
     "status": "completed"
    },
    "tags": []
   },
   "source": [
    "## Feature engineering\n",
    "\n",
    "In this part, we can see a simple example of joining tables via `case_id`. Here the loading and joining is done with polars library. Polars library is blazingly fast and has much smaller memory footprint than pandas. "
   ]
  },
  {
   "cell_type": "code",
   "execution_count": 5,
   "id": "92405780",
   "metadata": {
    "execution": {
     "iopub.execute_input": "2024-04-29T20:10:04.929997Z",
     "iopub.status.busy": "2024-04-29T20:10:04.929452Z",
     "iopub.status.idle": "2024-04-29T20:10:07.216798Z",
     "shell.execute_reply": "2024-04-29T20:10:07.215402Z"
    },
    "papermill": {
     "duration": 2.303202,
     "end_time": "2024-04-29T20:10:07.220769",
     "exception": false,
     "start_time": "2024-04-29T20:10:04.917567",
     "status": "completed"
    },
    "tags": []
   },
   "outputs": [
    {
     "name": "stdout",
     "output_type": "stream",
     "text": [
      "['amtinstpaidbefduel24m_4187115A', 'annuity_780A', 'annuitynextmonth_57A', 'avginstallast24m_3658937A', 'avglnamtstart24m_4525187A', 'avgoutstandbalancel6m_4187114A', 'avgpmtlast12m_4525200A', 'credamount_770A', 'currdebt_22A', 'currdebtcredtyperange_828A', 'disbursedcredamount_1113A', 'downpmt_116A', 'inittransactionamount_650A', 'lastapprcommoditycat_1041M', 'lastapprcommoditytypec_5251766M', 'lastapprcredamount_781A', 'lastcancelreason_561M', 'lastotherinc_902A', 'lastotherlnsexpense_631A', 'lastrejectcommoditycat_161M', 'lastrejectcommodtypec_5251769M', 'lastrejectcredamount_222A', 'lastrejectreason_759M', 'lastrejectreasonclient_4145040M', 'maininc_215A', 'maxannuity_159A', 'maxannuity_4075009A', 'maxdebt4_972A', 'maxinstallast24m_3658928A', 'maxlnamtstart6m_4525199A', 'maxoutstandbalancel12m_4187113A', 'maxpmtlast3m_4525190A', 'previouscontdistrict_112M', 'price_1097A', 'sumoutstandtotal_3546847A', 'sumoutstandtotalest_4493215A', 'totaldebt_9A', 'totalsettled_863A', 'totinstallast1m_4525188A']\n",
      "['description_5085714M', 'education_1103M', 'education_88M', 'maritalst_385M', 'maritalst_893M', 'pmtaverage_3A', 'pmtaverage_4527227A', 'pmtaverage_4955615A', 'pmtssum_45A']\n"
     ]
    }
   ],
   "source": [
    "# We need to use aggregation functions in tables with depth > 1, so tables that contain num_group1 column or \n",
    "# also num_group2 column.\n",
    "train_person_1_feats_1 = train_person_1.group_by(\"case_id\").agg(\n",
    "    pl.col(\"mainoccupationinc_384A\").max().alias(\"mainoccupationinc_384A_max\"),\n",
    "    (pl.col(\"incometype_1044T\") == \"SELFEMPLOYED\").max().alias(\"mainoccupationinc_384A_any_selfemployed\")\n",
    ")\n",
    "\n",
    "# Here num_group1=0 has special meaning, it is the person who applied for the loan.\n",
    "train_person_1_feats_2 = train_person_1.select([\"case_id\", \"num_group1\", \"housetype_905L\"]).filter(\n",
    "    pl.col(\"num_group1\") == 0\n",
    ").drop(\"num_group1\").rename({\"housetype_905L\": \"person_housetype\"})\n",
    "\n",
    "# Here we have num_goup1 and num_group2, so we need to aggregate again.\n",
    "train_credit_bureau_b_2_feats = train_credit_bureau_b_2.group_by(\"case_id\").agg(\n",
    "    pl.col(\"pmts_pmtsoverdue_635A\").max().alias(\"pmts_pmtsoverdue_635A_max\"),\n",
    "    (pl.col(\"pmts_dpdvalue_108P\") > 31).max().alias(\"pmts_dpdvalue_108P_over31\")\n",
    ")\n",
    "\n",
    "# We will process in this examples only A-type and M-type columns, so we need to select them.\n",
    "selected_static_cols = []\n",
    "for col in train_static.columns:\n",
    "    if col[-1] in (\"A\", \"M\"):\n",
    "        selected_static_cols.append(col)\n",
    "print(selected_static_cols)\n",
    "\n",
    "selected_static_cb_cols = []\n",
    "for col in train_static_cb.columns:\n",
    "    if col[-1] in (\"A\", \"M\"):\n",
    "        selected_static_cb_cols.append(col)\n",
    "print(selected_static_cb_cols)\n",
    "\n",
    "# Join all tables together.\n",
    "data = train_basetable.join(\n",
    "    train_static.select([\"case_id\"]+selected_static_cols), how=\"left\", on=\"case_id\"\n",
    ").join(\n",
    "    train_static_cb.select([\"case_id\"]+selected_static_cb_cols), how=\"left\", on=\"case_id\"\n",
    ").join(\n",
    "    train_person_1_feats_1, how=\"left\", on=\"case_id\"\n",
    ").join(\n",
    "    train_person_1_feats_2, how=\"left\", on=\"case_id\"\n",
    ").join(\n",
    "    train_credit_bureau_b_2_feats, how=\"left\", on=\"case_id\"\n",
    ")"
   ]
  },
  {
   "cell_type": "code",
   "execution_count": 6,
   "id": "959d02ea",
   "metadata": {
    "execution": {
     "iopub.execute_input": "2024-04-29T20:10:07.252382Z",
     "iopub.status.busy": "2024-04-29T20:10:07.251125Z",
     "iopub.status.idle": "2024-04-29T20:10:07.280363Z",
     "shell.execute_reply": "2024-04-29T20:10:07.279177Z"
    },
    "papermill": {
     "duration": 0.052798,
     "end_time": "2024-04-29T20:10:07.284137",
     "exception": false,
     "start_time": "2024-04-29T20:10:07.231339",
     "status": "completed"
    },
    "tags": []
   },
   "outputs": [],
   "source": [
    "test_person_1_feats_1 = test_person_1.group_by(\"case_id\").agg(\n",
    "    pl.col(\"mainoccupationinc_384A\").max().alias(\"mainoccupationinc_384A_max\"),\n",
    "    (pl.col(\"incometype_1044T\") == \"SELFEMPLOYED\").max().alias(\"mainoccupationinc_384A_any_selfemployed\")\n",
    ")\n",
    "\n",
    "test_person_1_feats_2 = test_person_1.select([\"case_id\", \"num_group1\", \"housetype_905L\"]).filter(\n",
    "    pl.col(\"num_group1\") == 0\n",
    ").drop(\"num_group1\").rename({\"housetype_905L\": \"person_housetype\"})\n",
    "\n",
    "test_credit_bureau_b_2_feats = test_credit_bureau_b_2.group_by(\"case_id\").agg(\n",
    "    pl.col(\"pmts_pmtsoverdue_635A\").max().alias(\"pmts_pmtsoverdue_635A_max\"),\n",
    "    (pl.col(\"pmts_dpdvalue_108P\") > 31).max().alias(\"pmts_dpdvalue_108P_over31\")\n",
    ")\n",
    "\n",
    "data_submission = test_basetable.join(\n",
    "    test_static.select([\"case_id\"]+selected_static_cols), how=\"left\", on=\"case_id\"\n",
    ").join(\n",
    "    test_static_cb.select([\"case_id\"]+selected_static_cb_cols), how=\"left\", on=\"case_id\"\n",
    ").join(\n",
    "    test_person_1_feats_1, how=\"left\", on=\"case_id\"\n",
    ").join(\n",
    "    test_person_1_feats_2, how=\"left\", on=\"case_id\"\n",
    ").join(\n",
    "    test_credit_bureau_b_2_feats, how=\"left\", on=\"case_id\"\n",
    ")"
   ]
  },
  {
   "cell_type": "code",
   "execution_count": 7,
   "id": "a19cad40",
   "metadata": {
    "execution": {
     "iopub.execute_input": "2024-04-29T20:10:07.313092Z",
     "iopub.status.busy": "2024-04-29T20:10:07.312548Z",
     "iopub.status.idle": "2024-04-29T20:10:17.614232Z",
     "shell.execute_reply": "2024-04-29T20:10:17.612817Z"
    },
    "papermill": {
     "duration": 10.317075,
     "end_time": "2024-04-29T20:10:17.617383",
     "exception": false,
     "start_time": "2024-04-29T20:10:07.300308",
     "status": "completed"
    },
    "tags": []
   },
   "outputs": [
    {
     "name": "stdout",
     "output_type": "stream",
     "text": [
      "['amtinstpaidbefduel24m_4187115A', 'annuity_780A', 'annuitynextmonth_57A', 'avginstallast24m_3658937A', 'avglnamtstart24m_4525187A', 'avgoutstandbalancel6m_4187114A', 'avgpmtlast12m_4525200A', 'credamount_770A', 'currdebt_22A', 'currdebtcredtyperange_828A', 'disbursedcredamount_1113A', 'downpmt_116A', 'inittransactionamount_650A', 'lastapprcommoditycat_1041M', 'lastapprcommoditytypec_5251766M', 'lastapprcredamount_781A', 'lastcancelreason_561M', 'lastotherinc_902A', 'lastotherlnsexpense_631A', 'lastrejectcommoditycat_161M', 'lastrejectcommodtypec_5251769M', 'lastrejectcredamount_222A', 'lastrejectreason_759M', 'lastrejectreasonclient_4145040M', 'maininc_215A', 'maxannuity_159A', 'maxannuity_4075009A', 'maxdebt4_972A', 'maxinstallast24m_3658928A', 'maxlnamtstart6m_4525199A', 'maxoutstandbalancel12m_4187113A', 'maxpmtlast3m_4525190A', 'previouscontdistrict_112M', 'price_1097A', 'sumoutstandtotal_3546847A', 'sumoutstandtotalest_4493215A', 'totaldebt_9A', 'totalsettled_863A', 'totinstallast1m_4525188A', 'description_5085714M', 'education_1103M', 'education_88M', 'maritalst_385M', 'maritalst_893M', 'pmtaverage_3A', 'pmtaverage_4527227A', 'pmtaverage_4955615A', 'pmtssum_45A']\n"
     ]
    }
   ],
   "source": [
    "case_ids = data[\"case_id\"].unique().shuffle(seed=1)\n",
    "case_ids_train, case_ids_test = train_test_split(case_ids, train_size=0.6, random_state=1)\n",
    "case_ids_valid, case_ids_test = train_test_split(case_ids_test, train_size=0.5, random_state=1)\n",
    "\n",
    "cols_pred = []\n",
    "for col in data.columns:\n",
    "    if col[-1].isupper() and col[:-1].islower():\n",
    "        cols_pred.append(col)\n",
    "\n",
    "print(cols_pred)\n",
    "\n",
    "def from_polars_to_pandas(case_ids: pl.DataFrame) -> pl.DataFrame:\n",
    "    return (\n",
    "        data.filter(pl.col(\"case_id\").is_in(case_ids))[[\"case_id\", \"WEEK_NUM\", \"target\"]].to_pandas(),\n",
    "        data.filter(pl.col(\"case_id\").is_in(case_ids))[cols_pred].to_pandas(),\n",
    "        data.filter(pl.col(\"case_id\").is_in(case_ids))[\"target\"].to_pandas()\n",
    "    )\n",
    "\n",
    "base_train, X_train, y_train = from_polars_to_pandas(case_ids_train)\n",
    "base_valid, X_valid, y_valid = from_polars_to_pandas(case_ids_valid)\n",
    "base_test, X_test, y_test = from_polars_to_pandas(case_ids_test)\n",
    "\n",
    "for df in [X_train, X_valid, X_test]:\n",
    "    df = convert_strings(df)"
   ]
  },
  {
   "cell_type": "code",
   "execution_count": 8,
   "id": "e6404150",
   "metadata": {
    "execution": {
     "iopub.execute_input": "2024-04-29T20:10:17.640259Z",
     "iopub.status.busy": "2024-04-29T20:10:17.639294Z",
     "iopub.status.idle": "2024-04-29T20:10:17.646711Z",
     "shell.execute_reply": "2024-04-29T20:10:17.645283Z"
    },
    "papermill": {
     "duration": 0.022033,
     "end_time": "2024-04-29T20:10:17.649948",
     "exception": false,
     "start_time": "2024-04-29T20:10:17.627915",
     "status": "completed"
    },
    "tags": []
   },
   "outputs": [
    {
     "name": "stdout",
     "output_type": "stream",
     "text": [
      "Train: (915995, 48)\n",
      "Valid: (305332, 48)\n",
      "Test: (305332, 48)\n"
     ]
    }
   ],
   "source": [
    "print(f\"Train: {X_train.shape}\")\n",
    "print(f\"Valid: {X_valid.shape}\")\n",
    "print(f\"Test: {X_test.shape}\")"
   ]
  },
  {
   "cell_type": "code",
   "execution_count": 9,
   "id": "78afd9ea",
   "metadata": {
    "execution": {
     "iopub.execute_input": "2024-04-29T20:10:17.673115Z",
     "iopub.status.busy": "2024-04-29T20:10:17.672618Z",
     "iopub.status.idle": "2024-04-29T20:10:17.700718Z",
     "shell.execute_reply": "2024-04-29T20:10:17.699324Z"
    },
    "papermill": {
     "duration": 0.043463,
     "end_time": "2024-04-29T20:10:17.704255",
     "exception": false,
     "start_time": "2024-04-29T20:10:17.660792",
     "status": "completed"
    },
    "tags": []
   },
   "outputs": [
    {
     "name": "stdout",
     "output_type": "stream",
     "text": [
      "Train set class distribution:\n",
      "target\n",
      "0    887123\n",
      "1     28872\n",
      "Name: count, dtype: int64\n",
      "\n",
      "Validation set class distribution:\n",
      "target\n",
      "0    295890\n",
      "1      9442\n",
      "Name: count, dtype: int64\n",
      "\n",
      "Test set class distribution:\n",
      "target\n",
      "0    295652\n",
      "1      9680\n",
      "Name: count, dtype: int64\n"
     ]
    }
   ],
   "source": [
    "print(\"Train set class distribution:\")\n",
    "print(y_train.value_counts())\n",
    "\n",
    "print(\"\\nValidation set class distribution:\")\n",
    "print(y_valid.value_counts())\n",
    "\n",
    "print(\"\\nTest set class distribution:\")\n",
    "print(y_test.value_counts())"
   ]
  },
  {
   "cell_type": "markdown",
   "id": "1c555ac9",
   "metadata": {
    "papermill": {
     "duration": 0.009339,
     "end_time": "2024-04-29T20:10:17.723425",
     "exception": false,
     "start_time": "2024-04-29T20:10:17.714086",
     "status": "completed"
    },
    "tags": []
   },
   "source": [
    "##  Class Weights in the LightGBM training"
   ]
  },
  {
   "cell_type": "code",
   "execution_count": 10,
   "id": "21e40b64",
   "metadata": {
    "execution": {
     "iopub.execute_input": "2024-04-29T20:10:17.745461Z",
     "iopub.status.busy": "2024-04-29T20:10:17.744484Z",
     "iopub.status.idle": "2024-04-29T20:10:17.764768Z",
     "shell.execute_reply": "2024-04-29T20:10:17.762875Z"
    },
    "papermill": {
     "duration": 0.034935,
     "end_time": "2024-04-29T20:10:17.768009",
     "exception": false,
     "start_time": "2024-04-29T20:10:17.733074",
     "status": "completed"
    },
    "tags": []
   },
   "outputs": [
    {
     "name": "stdout",
     "output_type": "stream",
     "text": [
      "Class Weights: {0: 1.0325456560138786, 1: 31.726066777500694}\n"
     ]
    }
   ],
   "source": [
    "# Calculate class weights\n",
    "total = y_train.shape[0]\n",
    "class_counts = y_train.value_counts()\n",
    "class_weights = {0: total / class_counts[0], 1: total / class_counts[1]}\n",
    "print(\"Class Weights:\", class_weights)"
   ]
  },
  {
   "cell_type": "code",
   "execution_count": 11,
   "id": "4cba692d",
   "metadata": {
    "execution": {
     "iopub.execute_input": "2024-04-29T20:10:17.790862Z",
     "iopub.status.busy": "2024-04-29T20:10:17.790315Z",
     "iopub.status.idle": "2024-04-29T20:10:17.797444Z",
     "shell.execute_reply": "2024-04-29T20:10:17.796083Z"
    },
    "papermill": {
     "duration": 0.022301,
     "end_time": "2024-04-29T20:10:17.800456",
     "exception": false,
     "start_time": "2024-04-29T20:10:17.778155",
     "status": "completed"
    },
    "tags": []
   },
   "outputs": [],
   "source": [
    "# Define a custom evaluation metric with class weights\n",
    "def weighted_log_loss(y_true, y_pred):\n",
    "    sample_weight = np.array([class_weights[label] for label in y_true])\n",
    "    return 'weighted_log_loss', log_loss(y_true, y_pred, sample_weight=sample_weight), True"
   ]
  },
  {
   "cell_type": "code",
   "execution_count": 12,
   "id": "51b16b34",
   "metadata": {
    "execution": {
     "iopub.execute_input": "2024-04-29T20:10:17.824877Z",
     "iopub.status.busy": "2024-04-29T20:10:17.824290Z",
     "iopub.status.idle": "2024-04-29T20:10:17.831295Z",
     "shell.execute_reply": "2024-04-29T20:10:17.829758Z"
    },
    "papermill": {
     "duration": 0.023738,
     "end_time": "2024-04-29T20:10:17.835355",
     "exception": false,
     "start_time": "2024-04-29T20:10:17.811617",
     "status": "completed"
    },
    "tags": []
   },
   "outputs": [],
   "source": [
    "from sklearn.metrics import log_loss"
   ]
  },
  {
   "cell_type": "code",
   "execution_count": 13,
   "id": "40ed7dc3",
   "metadata": {
    "execution": {
     "iopub.execute_input": "2024-04-29T20:10:17.858332Z",
     "iopub.status.busy": "2024-04-29T20:10:17.857815Z",
     "iopub.status.idle": "2024-04-29T20:11:45.996497Z",
     "shell.execute_reply": "2024-04-29T20:11:45.995274Z"
    },
    "papermill": {
     "duration": 88.153827,
     "end_time": "2024-04-29T20:11:45.999984",
     "exception": false,
     "start_time": "2024-04-29T20:10:17.846157",
     "status": "completed"
    },
    "tags": []
   },
   "outputs": [
    {
     "name": "stderr",
     "output_type": "stream",
     "text": [
      "/opt/conda/lib/python3.10/site-packages/lightgbm/engine.py:177: UserWarning: Found `n_estimators` in params. Will use it instead of argument\n",
      "  _log_warning(f\"Found `{alias}` in params. Will use it instead of argument\")\n"
     ]
    },
    {
     "name": "stdout",
     "output_type": "stream",
     "text": [
      "[LightGBM] [Warning] Unknown parameter: weighted_log_loss\n",
      "[LightGBM] [Warning] Unknown parameter: at\n",
      "[LightGBM] [Warning] Unknown parameter: 0x7f41fff3f7f0>\n",
      "Training until validation scores don't improve for 10 rounds\n",
      "[50]\tvalid_0's auc: 0.705963\n",
      "[100]\tvalid_0's auc: 0.724362\n",
      "[150]\tvalid_0's auc: 0.731423\n",
      "[200]\tvalid_0's auc: 0.735874\n",
      "[250]\tvalid_0's auc: 0.739009\n",
      "[300]\tvalid_0's auc: 0.740965\n",
      "[350]\tvalid_0's auc: 0.742924\n",
      "[400]\tvalid_0's auc: 0.744582\n",
      "[450]\tvalid_0's auc: 0.745977\n",
      "[500]\tvalid_0's auc: 0.747033\n",
      "[550]\tvalid_0's auc: 0.747877\n",
      "[600]\tvalid_0's auc: 0.749039\n",
      "[650]\tvalid_0's auc: 0.750087\n",
      "[700]\tvalid_0's auc: 0.750863\n",
      "Early stopping, best iteration is:\n",
      "[739]\tvalid_0's auc: 0.751216\n"
     ]
    }
   ],
   "source": [
    "# Train Light GBM with class weights\n",
    "params = {\n",
    "    \"boosting_type\": \"gbdt\",\n",
    "    \"objective\": \"binary\",\n",
    "    \"metric\": [\"auc\", weighted_log_loss],\n",
    "    \"max_depth\": 3,\n",
    "    \"num_leaves\": 31,\n",
    "    \"learning_rate\": 0.05,\n",
    "    \"feature_fraction\": 0.9,\n",
    "    \"bagging_fraction\":0.8,\n",
    "    \"bagging_freq\": 5,\n",
    "    \"n_estimators\": 1000,\n",
    "    \"verbose\": -1\n",
    "}\n",
    "\n",
    "lgb_train = lgb.Dataset(X_train, label=y_train)\n",
    "lgb_valid = lgb.Dataset(X_valid, label=y_valid, reference=lgb_train)\n",
    "\n",
    "gbm = lgb.train(\n",
    "    params,\n",
    "    lgb_train,\n",
    "    valid_sets=lgb_valid,\n",
    "    callbacks=[lgb.log_evaluation(50), lgb.early_stopping(10)]\n",
    ")"
   ]
  },
  {
   "cell_type": "code",
   "execution_count": 14,
   "id": "aaa43821",
   "metadata": {
    "execution": {
     "iopub.execute_input": "2024-04-29T20:11:46.028889Z",
     "iopub.status.busy": "2024-04-29T20:11:46.028007Z",
     "iopub.status.idle": "2024-04-29T20:13:31.339350Z",
     "shell.execute_reply": "2024-04-29T20:13:31.338106Z"
    },
    "papermill": {
     "duration": 105.329447,
     "end_time": "2024-04-29T20:13:31.342240",
     "exception": false,
     "start_time": "2024-04-29T20:11:46.012793",
     "status": "completed"
    },
    "tags": []
   },
   "outputs": [
    {
     "name": "stderr",
     "output_type": "stream",
     "text": [
      "/opt/conda/lib/python3.10/site-packages/lightgbm/engine.py:177: UserWarning: Found `n_estimators` in params. Will use it instead of argument\n",
      "  _log_warning(f\"Found `{alias}` in params. Will use it instead of argument\")\n"
     ]
    },
    {
     "name": "stdout",
     "output_type": "stream",
     "text": [
      "Training until validation scores don't improve for 10 rounds\n",
      "[50]\tvalid_0's auc: 0.715839\n",
      "[100]\tvalid_0's auc: 0.728213\n",
      "[150]\tvalid_0's auc: 0.733725\n",
      "[200]\tvalid_0's auc: 0.737732\n",
      "[250]\tvalid_0's auc: 0.740725\n",
      "[300]\tvalid_0's auc: 0.742567\n",
      "[350]\tvalid_0's auc: 0.744519\n",
      "[400]\tvalid_0's auc: 0.746128\n",
      "[450]\tvalid_0's auc: 0.747383\n",
      "[500]\tvalid_0's auc: 0.748473\n",
      "[550]\tvalid_0's auc: 0.749145\n",
      "[600]\tvalid_0's auc: 0.749833\n",
      "[650]\tvalid_0's auc: 0.750607\n",
      "[700]\tvalid_0's auc: 0.751741\n",
      "[750]\tvalid_0's auc: 0.752269\n",
      "[800]\tvalid_0's auc: 0.752785\n",
      "[850]\tvalid_0's auc: 0.753432\n",
      "Early stopping, best iteration is:\n",
      "[875]\tvalid_0's auc: 0.753813\n"
     ]
    }
   ],
   "source": [
    "params = {\n",
    "    \"boosting_type\": \"gbdt\",\n",
    "    \"objective\": \"binary\",\n",
    "    \"metric\": [\"auc\", \"binary_cross_entropy\"],\n",
    "    \"max_depth\": 3,\n",
    "    \"num_leaves\": 31,\n",
    "    \"learning_rate\": 0.05,\n",
    "    \"feature_fraction\": 0.9,\n",
    "    \"bagging_fraction\": 0.8,\n",
    "    \"bagging_freq\": 5,\n",
    "    \"n_estimators\": 1000,\n",
    "    \"verbose\": -1,\n",
    "    \"scale_pos_weight\": class_weights[1] / class_weights[0] \n",
    "}\n",
    "lgb_train = lgb.Dataset(X_train, label=y_train)\n",
    "lgb_valid = lgb.Dataset(X_valid, label=y_valid, reference=lgb_train)\n",
    "\n",
    "gbm = lgb.train(\n",
    "    params,\n",
    "    lgb_train,\n",
    "    valid_sets=lgb_valid,\n",
    "    callbacks=[lgb.log_evaluation(50), lgb.early_stopping(10)]\n",
    ")"
   ]
  },
  {
   "cell_type": "markdown",
   "id": "04961403",
   "metadata": {
    "papermill": {
     "duration": 0.012937,
     "end_time": "2024-04-29T20:13:31.368564",
     "exception": false,
     "start_time": "2024-04-29T20:13:31.355627",
     "status": "completed"
    },
    "tags": []
   },
   "source": [
    "## Hyperparameter Tuning"
   ]
  },
  {
   "cell_type": "code",
   "execution_count": 15,
   "id": "7966abb9",
   "metadata": {
    "execution": {
     "iopub.execute_input": "2024-04-29T20:13:31.398326Z",
     "iopub.status.busy": "2024-04-29T20:13:31.397465Z",
     "iopub.status.idle": "2024-04-29T20:13:33.571573Z",
     "shell.execute_reply": "2024-04-29T20:13:33.570275Z"
    },
    "papermill": {
     "duration": 2.192565,
     "end_time": "2024-04-29T20:13:33.574609",
     "exception": false,
     "start_time": "2024-04-29T20:13:31.382044",
     "status": "completed"
    },
    "tags": []
   },
   "outputs": [],
   "source": [
    "from skopt import BayesSearchCV\n",
    "from lightgbm import LGBMClassifier\n",
    "import optuna\n",
    "from sklearn.metrics import roc_auc_score"
   ]
  },
  {
   "cell_type": "code",
   "execution_count": 16,
   "id": "e8235078",
   "metadata": {
    "execution": {
     "iopub.execute_input": "2024-04-29T20:13:33.605311Z",
     "iopub.status.busy": "2024-04-29T20:13:33.604797Z",
     "iopub.status.idle": "2024-04-29T20:13:33.616165Z",
     "shell.execute_reply": "2024-04-29T20:13:33.614866Z"
    },
    "papermill": {
     "duration": 0.030716,
     "end_time": "2024-04-29T20:13:33.618913",
     "exception": false,
     "start_time": "2024-04-29T20:13:33.588197",
     "status": "completed"
    },
    "tags": []
   },
   "outputs": [],
   "source": [
    "def objective(trial):\n",
    "    # Define the hyperparameter search space\n",
    "    max_depth = trial.suggest_int('max_depth', 2, 10)\n",
    "    num_leaves = trial.suggest_int('num_leaves', 10, 100)\n",
    "    learning_rate = trial.suggest_float('learning_rate', 1e-3, 1e-1, log=True)\n",
    "    feature_fraction = trial.suggest_float('feature_fraction', 0.5, 1.0)\n",
    "    bagging_fraction = trial.suggest_float('bagging_fraction', 0.5, 1.0)\n",
    "    bagging_freq = trial.suggest_int('bagging_freq', 1, 10)\n",
    "    \n",
    "    # Create the parameter dictionary\n",
    "    params = {\n",
    "        'boosting_type': 'gbdt',\n",
    "        'objective': 'binary',\n",
    "        'metric': 'auc',\n",
    "        'max_depth': max_depth,\n",
    "        'num_leaves': num_leaves,\n",
    "        'learning_rate': learning_rate,\n",
    "        'feature_fraction': feature_fraction,\n",
    "        'bagging_fraction': bagging_fraction,\n",
    "        'bagging_freq': bagging_freq,\n",
    "        'verbose': -1\n",
    "    }\n",
    "    \n",
    "    # Train the LightGBM model\n",
    "    lgb_train = lgb.Dataset(X_train, label=y_train)\n",
    "    lgb_valid = lgb.Dataset(X_valid, label=y_valid, reference=lgb_train)\n",
    "    gbm = lgb.train(params, lgb_train, valid_sets=lgb_valid, early_stopping_rounds=10, verbose_eval=False)\n",
    "    \n",
    "    # Evaluate the model on the validation set\n",
    "    y_pred = gbm.predict(X_valid)\n",
    "    auc = roc_auc_score(y_valid, y_pred)\n",
    "    \n",
    "    # Return the negative validation AUC (since we want to minimize)\n",
    "    return -auc"
   ]
  },
  {
   "cell_type": "code",
   "execution_count": 17,
   "id": "ef048857",
   "metadata": {
    "execution": {
     "iopub.execute_input": "2024-04-29T20:13:33.648036Z",
     "iopub.status.busy": "2024-04-29T20:13:33.647532Z",
     "iopub.status.idle": "2024-04-29T20:38:04.312780Z",
     "shell.execute_reply": "2024-04-29T20:38:04.311428Z"
    },
    "papermill": {
     "duration": 1470.706099,
     "end_time": "2024-04-29T20:38:04.338528",
     "exception": false,
     "start_time": "2024-04-29T20:13:33.632429",
     "status": "completed"
    },
    "tags": []
   },
   "outputs": [
    {
     "name": "stderr",
     "output_type": "stream",
     "text": [
      "[I 2024-04-29 20:13:33,650] A new study created in memory with name: no-name-4a01a59c-902b-4a6e-beb2-486a26fc6478\n",
      "/opt/conda/lib/python3.10/site-packages/lightgbm/engine.py:181: UserWarning: 'early_stopping_rounds' argument is deprecated and will be removed in a future release of LightGBM. Pass 'early_stopping()' callback via 'callbacks' argument instead.\n",
      "  _log_warning(\"'early_stopping_rounds' argument is deprecated and will be removed in a future release of LightGBM. \"\n",
      "/opt/conda/lib/python3.10/site-packages/lightgbm/engine.py:239: UserWarning: 'verbose_eval' argument is deprecated and will be removed in a future release of LightGBM. Pass 'log_evaluation()' callback via 'callbacks' argument instead.\n",
      "  _log_warning(\"'verbose_eval' argument is deprecated and will be removed in a future release of LightGBM. \"\n",
      "[I 2024-04-29 20:13:58,488] Trial 0 finished with value: -0.7372902191857869 and parameters: {'max_depth': 8, 'num_leaves': 33, 'learning_rate': 0.028499319863939006, 'feature_fraction': 0.9944268602989839, 'bagging_fraction': 0.6699897332635285, 'bagging_freq': 4}. Best is trial 0 with value: -0.7372902191857869.\n",
      "/opt/conda/lib/python3.10/site-packages/lightgbm/engine.py:181: UserWarning: 'early_stopping_rounds' argument is deprecated and will be removed in a future release of LightGBM. Pass 'early_stopping()' callback via 'callbacks' argument instead.\n",
      "  _log_warning(\"'early_stopping_rounds' argument is deprecated and will be removed in a future release of LightGBM. \"\n",
      "/opt/conda/lib/python3.10/site-packages/lightgbm/engine.py:239: UserWarning: 'verbose_eval' argument is deprecated and will be removed in a future release of LightGBM. Pass 'log_evaluation()' callback via 'callbacks' argument instead.\n",
      "  _log_warning(\"'verbose_eval' argument is deprecated and will be removed in a future release of LightGBM. \"\n",
      "[I 2024-04-29 20:14:23,231] Trial 1 finished with value: -0.7159625401503386 and parameters: {'max_depth': 8, 'num_leaves': 68, 'learning_rate': 0.002522574660542469, 'feature_fraction': 0.6019235903896689, 'bagging_fraction': 0.5600993150714382, 'bagging_freq': 10}. Best is trial 0 with value: -0.7372902191857869.\n",
      "/opt/conda/lib/python3.10/site-packages/lightgbm/engine.py:181: UserWarning: 'early_stopping_rounds' argument is deprecated and will be removed in a future release of LightGBM. Pass 'early_stopping()' callback via 'callbacks' argument instead.\n",
      "  _log_warning(\"'early_stopping_rounds' argument is deprecated and will be removed in a future release of LightGBM. \"\n",
      "/opt/conda/lib/python3.10/site-packages/lightgbm/engine.py:239: UserWarning: 'verbose_eval' argument is deprecated and will be removed in a future release of LightGBM. Pass 'log_evaluation()' callback via 'callbacks' argument instead.\n",
      "  _log_warning(\"'verbose_eval' argument is deprecated and will be removed in a future release of LightGBM. \"\n",
      "[I 2024-04-29 20:14:45,812] Trial 2 finished with value: -0.7088587089786862 and parameters: {'max_depth': 5, 'num_leaves': 64, 'learning_rate': 0.00983015666307963, 'feature_fraction': 0.7251861331238726, 'bagging_fraction': 0.9277361271791191, 'bagging_freq': 6}. Best is trial 0 with value: -0.7372902191857869.\n",
      "/opt/conda/lib/python3.10/site-packages/lightgbm/engine.py:181: UserWarning: 'early_stopping_rounds' argument is deprecated and will be removed in a future release of LightGBM. Pass 'early_stopping()' callback via 'callbacks' argument instead.\n",
      "  _log_warning(\"'early_stopping_rounds' argument is deprecated and will be removed in a future release of LightGBM. \"\n",
      "/opt/conda/lib/python3.10/site-packages/lightgbm/engine.py:239: UserWarning: 'verbose_eval' argument is deprecated and will be removed in a future release of LightGBM. Pass 'log_evaluation()' callback via 'callbacks' argument instead.\n",
      "  _log_warning(\"'verbose_eval' argument is deprecated and will be removed in a future release of LightGBM. \"\n",
      "[I 2024-04-29 20:14:57,855] Trial 3 finished with value: -0.6575510940254287 and parameters: {'max_depth': 2, 'num_leaves': 81, 'learning_rate': 0.007808525855456446, 'feature_fraction': 0.5349768916713344, 'bagging_fraction': 0.7837936558029067, 'bagging_freq': 4}. Best is trial 0 with value: -0.7372902191857869.\n",
      "/opt/conda/lib/python3.10/site-packages/lightgbm/engine.py:181: UserWarning: 'early_stopping_rounds' argument is deprecated and will be removed in a future release of LightGBM. Pass 'early_stopping()' callback via 'callbacks' argument instead.\n",
      "  _log_warning(\"'early_stopping_rounds' argument is deprecated and will be removed in a future release of LightGBM. \"\n",
      "/opt/conda/lib/python3.10/site-packages/lightgbm/engine.py:239: UserWarning: 'verbose_eval' argument is deprecated and will be removed in a future release of LightGBM. Pass 'log_evaluation()' callback via 'callbacks' argument instead.\n",
      "  _log_warning(\"'verbose_eval' argument is deprecated and will be removed in a future release of LightGBM. \"\n",
      "[I 2024-04-29 20:15:16,270] Trial 4 finished with value: -0.7191897494581364 and parameters: {'max_depth': 3, 'num_leaves': 58, 'learning_rate': 0.040937564171124825, 'feature_fraction': 0.5695881385364594, 'bagging_fraction': 0.7972241587056905, 'bagging_freq': 3}. Best is trial 0 with value: -0.7372902191857869.\n",
      "/opt/conda/lib/python3.10/site-packages/lightgbm/engine.py:181: UserWarning: 'early_stopping_rounds' argument is deprecated and will be removed in a future release of LightGBM. Pass 'early_stopping()' callback via 'callbacks' argument instead.\n",
      "  _log_warning(\"'early_stopping_rounds' argument is deprecated and will be removed in a future release of LightGBM. \"\n",
      "/opt/conda/lib/python3.10/site-packages/lightgbm/engine.py:239: UserWarning: 'verbose_eval' argument is deprecated and will be removed in a future release of LightGBM. Pass 'log_evaluation()' callback via 'callbacks' argument instead.\n",
      "  _log_warning(\"'verbose_eval' argument is deprecated and will be removed in a future release of LightGBM. \"\n",
      "[I 2024-04-29 20:15:31,775] Trial 5 finished with value: -0.7284814815117073 and parameters: {'max_depth': 3, 'num_leaves': 49, 'learning_rate': 0.06605519089031653, 'feature_fraction': 0.9184970431260377, 'bagging_fraction': 0.6085448910175351, 'bagging_freq': 7}. Best is trial 0 with value: -0.7372902191857869.\n",
      "/opt/conda/lib/python3.10/site-packages/lightgbm/engine.py:181: UserWarning: 'early_stopping_rounds' argument is deprecated and will be removed in a future release of LightGBM. Pass 'early_stopping()' callback via 'callbacks' argument instead.\n",
      "  _log_warning(\"'early_stopping_rounds' argument is deprecated and will be removed in a future release of LightGBM. \"\n",
      "/opt/conda/lib/python3.10/site-packages/lightgbm/engine.py:239: UserWarning: 'verbose_eval' argument is deprecated and will be removed in a future release of LightGBM. Pass 'log_evaluation()' callback via 'callbacks' argument instead.\n",
      "  _log_warning(\"'verbose_eval' argument is deprecated and will be removed in a future release of LightGBM. \"\n",
      "[I 2024-04-29 20:16:01,118] Trial 6 finished with value: -0.7325444102813359 and parameters: {'max_depth': 10, 'num_leaves': 94, 'learning_rate': 0.012955442609128976, 'feature_fraction': 0.7235154442918565, 'bagging_fraction': 0.6213354615154407, 'bagging_freq': 7}. Best is trial 0 with value: -0.7372902191857869.\n",
      "/opt/conda/lib/python3.10/site-packages/lightgbm/engine.py:181: UserWarning: 'early_stopping_rounds' argument is deprecated and will be removed in a future release of LightGBM. Pass 'early_stopping()' callback via 'callbacks' argument instead.\n",
      "  _log_warning(\"'early_stopping_rounds' argument is deprecated and will be removed in a future release of LightGBM. \"\n",
      "/opt/conda/lib/python3.10/site-packages/lightgbm/engine.py:239: UserWarning: 'verbose_eval' argument is deprecated and will be removed in a future release of LightGBM. Pass 'log_evaluation()' callback via 'callbacks' argument instead.\n",
      "  _log_warning(\"'verbose_eval' argument is deprecated and will be removed in a future release of LightGBM. \"\n",
      "[I 2024-04-29 20:16:14,796] Trial 7 finished with value: -0.6549191961003215 and parameters: {'max_depth': 2, 'num_leaves': 52, 'learning_rate': 0.005245680055135247, 'feature_fraction': 0.8163434620181587, 'bagging_fraction': 0.8474643483636302, 'bagging_freq': 7}. Best is trial 0 with value: -0.7372902191857869.\n",
      "/opt/conda/lib/python3.10/site-packages/lightgbm/engine.py:181: UserWarning: 'early_stopping_rounds' argument is deprecated and will be removed in a future release of LightGBM. Pass 'early_stopping()' callback via 'callbacks' argument instead.\n",
      "  _log_warning(\"'early_stopping_rounds' argument is deprecated and will be removed in a future release of LightGBM. \"\n",
      "/opt/conda/lib/python3.10/site-packages/lightgbm/engine.py:239: UserWarning: 'verbose_eval' argument is deprecated and will be removed in a future release of LightGBM. Pass 'log_evaluation()' callback via 'callbacks' argument instead.\n",
      "  _log_warning(\"'verbose_eval' argument is deprecated and will be removed in a future release of LightGBM. \"\n",
      "[I 2024-04-29 20:16:24,936] Trial 8 finished with value: -0.6878881579997158 and parameters: {'max_depth': 9, 'num_leaves': 27, 'learning_rate': 0.0029456521678253257, 'feature_fraction': 0.9607669509039852, 'bagging_fraction': 0.8690687761549641, 'bagging_freq': 1}. Best is trial 0 with value: -0.7372902191857869.\n",
      "/opt/conda/lib/python3.10/site-packages/lightgbm/engine.py:181: UserWarning: 'early_stopping_rounds' argument is deprecated and will be removed in a future release of LightGBM. Pass 'early_stopping()' callback via 'callbacks' argument instead.\n",
      "  _log_warning(\"'early_stopping_rounds' argument is deprecated and will be removed in a future release of LightGBM. \"\n",
      "/opt/conda/lib/python3.10/site-packages/lightgbm/engine.py:239: UserWarning: 'verbose_eval' argument is deprecated and will be removed in a future release of LightGBM. Pass 'log_evaluation()' callback via 'callbacks' argument instead.\n",
      "  _log_warning(\"'verbose_eval' argument is deprecated and will be removed in a future release of LightGBM. \"\n",
      "[I 2024-04-29 20:16:33,524] Trial 9 finished with value: -0.6514219258404857 and parameters: {'max_depth': 2, 'num_leaves': 78, 'learning_rate': 0.0039588555746685695, 'feature_fraction': 0.7211359881170696, 'bagging_fraction': 0.9176393508917183, 'bagging_freq': 10}. Best is trial 0 with value: -0.7372902191857869.\n",
      "/opt/conda/lib/python3.10/site-packages/lightgbm/engine.py:181: UserWarning: 'early_stopping_rounds' argument is deprecated and will be removed in a future release of LightGBM. Pass 'early_stopping()' callback via 'callbacks' argument instead.\n",
      "  _log_warning(\"'early_stopping_rounds' argument is deprecated and will be removed in a future release of LightGBM. \"\n",
      "/opt/conda/lib/python3.10/site-packages/lightgbm/engine.py:239: UserWarning: 'verbose_eval' argument is deprecated and will be removed in a future release of LightGBM. Pass 'log_evaluation()' callback via 'callbacks' argument instead.\n",
      "  _log_warning(\"'verbose_eval' argument is deprecated and will be removed in a future release of LightGBM. \"\n",
      "[I 2024-04-29 20:16:50,385] Trial 10 finished with value: -0.7202858555703214 and parameters: {'max_depth': 7, 'num_leaves': 10, 'learning_rate': 0.02654462041940251, 'feature_fraction': 0.8873872087010015, 'bagging_fraction': 0.6686684345862145, 'bagging_freq': 1}. Best is trial 0 with value: -0.7372902191857869.\n",
      "/opt/conda/lib/python3.10/site-packages/lightgbm/engine.py:181: UserWarning: 'early_stopping_rounds' argument is deprecated and will be removed in a future release of LightGBM. Pass 'early_stopping()' callback via 'callbacks' argument instead.\n",
      "  _log_warning(\"'early_stopping_rounds' argument is deprecated and will be removed in a future release of LightGBM. \"\n",
      "/opt/conda/lib/python3.10/site-packages/lightgbm/engine.py:239: UserWarning: 'verbose_eval' argument is deprecated and will be removed in a future release of LightGBM. Pass 'log_evaluation()' callback via 'callbacks' argument instead.\n",
      "  _log_warning(\"'verbose_eval' argument is deprecated and will be removed in a future release of LightGBM. \"\n",
      "[I 2024-04-29 20:17:24,898] Trial 11 finished with value: -0.740835656572427 and parameters: {'max_depth': 10, 'num_leaves': 99, 'learning_rate': 0.021473079560890156, 'feature_fraction': 0.6672256057680366, 'bagging_fraction': 0.6874833902235746, 'bagging_freq': 4}. Best is trial 11 with value: -0.740835656572427.\n",
      "/opt/conda/lib/python3.10/site-packages/lightgbm/engine.py:181: UserWarning: 'early_stopping_rounds' argument is deprecated and will be removed in a future release of LightGBM. Pass 'early_stopping()' callback via 'callbacks' argument instead.\n",
      "  _log_warning(\"'early_stopping_rounds' argument is deprecated and will be removed in a future release of LightGBM. \"\n",
      "/opt/conda/lib/python3.10/site-packages/lightgbm/engine.py:239: UserWarning: 'verbose_eval' argument is deprecated and will be removed in a future release of LightGBM. Pass 'log_evaluation()' callback via 'callbacks' argument instead.\n",
      "  _log_warning(\"'verbose_eval' argument is deprecated and will be removed in a future release of LightGBM. \"\n",
      "[I 2024-04-29 20:17:50,942] Trial 12 finished with value: -0.734053355978673 and parameters: {'max_depth': 10, 'num_leaves': 33, 'learning_rate': 0.021856124677731174, 'feature_fraction': 0.6417701757901374, 'bagging_fraction': 0.693777969695542, 'bagging_freq': 4}. Best is trial 11 with value: -0.740835656572427.\n",
      "/opt/conda/lib/python3.10/site-packages/lightgbm/engine.py:181: UserWarning: 'early_stopping_rounds' argument is deprecated and will be removed in a future release of LightGBM. Pass 'early_stopping()' callback via 'callbacks' argument instead.\n",
      "  _log_warning(\"'early_stopping_rounds' argument is deprecated and will be removed in a future release of LightGBM. \"\n",
      "/opt/conda/lib/python3.10/site-packages/lightgbm/engine.py:239: UserWarning: 'verbose_eval' argument is deprecated and will be removed in a future release of LightGBM. Pass 'log_evaluation()' callback via 'callbacks' argument instead.\n",
      "  _log_warning(\"'verbose_eval' argument is deprecated and will be removed in a future release of LightGBM. \"\n",
      "[I 2024-04-29 20:18:14,185] Trial 13 finished with value: -0.7468813964331178 and parameters: {'max_depth': 6, 'num_leaves': 100, 'learning_rate': 0.07944282602748153, 'feature_fraction': 0.8398202426637973, 'bagging_fraction': 0.5207572292036056, 'bagging_freq': 3}. Best is trial 13 with value: -0.7468813964331178.\n",
      "/opt/conda/lib/python3.10/site-packages/lightgbm/engine.py:181: UserWarning: 'early_stopping_rounds' argument is deprecated and will be removed in a future release of LightGBM. Pass 'early_stopping()' callback via 'callbacks' argument instead.\n",
      "  _log_warning(\"'early_stopping_rounds' argument is deprecated and will be removed in a future release of LightGBM. \"\n",
      "/opt/conda/lib/python3.10/site-packages/lightgbm/engine.py:239: UserWarning: 'verbose_eval' argument is deprecated and will be removed in a future release of LightGBM. Pass 'log_evaluation()' callback via 'callbacks' argument instead.\n",
      "  _log_warning(\"'verbose_eval' argument is deprecated and will be removed in a future release of LightGBM. \"\n",
      "[I 2024-04-29 20:18:34,105] Trial 14 finished with value: -0.746886025622983 and parameters: {'max_depth': 5, 'num_leaves': 99, 'learning_rate': 0.0958959856827034, 'feature_fraction': 0.8198854292389359, 'bagging_fraction': 0.5539677821408642, 'bagging_freq': 2}. Best is trial 14 with value: -0.746886025622983.\n",
      "/opt/conda/lib/python3.10/site-packages/lightgbm/engine.py:181: UserWarning: 'early_stopping_rounds' argument is deprecated and will be removed in a future release of LightGBM. Pass 'early_stopping()' callback via 'callbacks' argument instead.\n",
      "  _log_warning(\"'early_stopping_rounds' argument is deprecated and will be removed in a future release of LightGBM. \"\n",
      "/opt/conda/lib/python3.10/site-packages/lightgbm/engine.py:239: UserWarning: 'verbose_eval' argument is deprecated and will be removed in a future release of LightGBM. Pass 'log_evaluation()' callback via 'callbacks' argument instead.\n",
      "  _log_warning(\"'verbose_eval' argument is deprecated and will be removed in a future release of LightGBM. \"\n",
      "[I 2024-04-29 20:18:54,272] Trial 15 finished with value: -0.7465029713471509 and parameters: {'max_depth': 5, 'num_leaves': 88, 'learning_rate': 0.09800330840333789, 'feature_fraction': 0.7915237840174906, 'bagging_fraction': 0.5091578469848095, 'bagging_freq': 2}. Best is trial 14 with value: -0.746886025622983.\n",
      "/opt/conda/lib/python3.10/site-packages/lightgbm/engine.py:181: UserWarning: 'early_stopping_rounds' argument is deprecated and will be removed in a future release of LightGBM. Pass 'early_stopping()' callback via 'callbacks' argument instead.\n",
      "  _log_warning(\"'early_stopping_rounds' argument is deprecated and will be removed in a future release of LightGBM. \"\n",
      "/opt/conda/lib/python3.10/site-packages/lightgbm/engine.py:239: UserWarning: 'verbose_eval' argument is deprecated and will be removed in a future release of LightGBM. Pass 'log_evaluation()' callback via 'callbacks' argument instead.\n",
      "  _log_warning(\"'verbose_eval' argument is deprecated and will be removed in a future release of LightGBM. \"\n",
      "[I 2024-04-29 20:19:05,271] Trial 16 finished with value: -0.6994342169283828 and parameters: {'max_depth': 6, 'num_leaves': 100, 'learning_rate': 0.001145086550869033, 'feature_fraction': 0.8370524305495657, 'bagging_fraction': 0.5225473763283042, 'bagging_freq': 2}. Best is trial 14 with value: -0.746886025622983.\n",
      "/opt/conda/lib/python3.10/site-packages/lightgbm/engine.py:181: UserWarning: 'early_stopping_rounds' argument is deprecated and will be removed in a future release of LightGBM. Pass 'early_stopping()' callback via 'callbacks' argument instead.\n",
      "  _log_warning(\"'early_stopping_rounds' argument is deprecated and will be removed in a future release of LightGBM. \"\n",
      "/opt/conda/lib/python3.10/site-packages/lightgbm/engine.py:239: UserWarning: 'verbose_eval' argument is deprecated and will be removed in a future release of LightGBM. Pass 'log_evaluation()' callback via 'callbacks' argument instead.\n",
      "  _log_warning(\"'verbose_eval' argument is deprecated and will be removed in a future release of LightGBM. \"\n",
      "[I 2024-04-29 20:19:26,527] Trial 17 finished with value: -0.7466861380779706 and parameters: {'max_depth': 5, 'num_leaves': 78, 'learning_rate': 0.09564871738215734, 'feature_fraction': 0.8720149903883871, 'bagging_fraction': 0.5880274746656797, 'bagging_freq': 2}. Best is trial 14 with value: -0.746886025622983.\n",
      "/opt/conda/lib/python3.10/site-packages/lightgbm/engine.py:181: UserWarning: 'early_stopping_rounds' argument is deprecated and will be removed in a future release of LightGBM. Pass 'early_stopping()' callback via 'callbacks' argument instead.\n",
      "  _log_warning(\"'early_stopping_rounds' argument is deprecated and will be removed in a future release of LightGBM. \"\n",
      "/opt/conda/lib/python3.10/site-packages/lightgbm/engine.py:239: UserWarning: 'verbose_eval' argument is deprecated and will be removed in a future release of LightGBM. Pass 'log_evaluation()' callback via 'callbacks' argument instead.\n",
      "  _log_warning(\"'verbose_eval' argument is deprecated and will be removed in a future release of LightGBM. \"\n",
      "[I 2024-04-29 20:19:42,129] Trial 18 finished with value: -0.7336211182159793 and parameters: {'max_depth': 4, 'num_leaves': 87, 'learning_rate': 0.04848775643407913, 'feature_fraction': 0.7817982919178833, 'bagging_fraction': 0.5020707733071997, 'bagging_freq': 5}. Best is trial 14 with value: -0.746886025622983.\n",
      "/opt/conda/lib/python3.10/site-packages/lightgbm/engine.py:181: UserWarning: 'early_stopping_rounds' argument is deprecated and will be removed in a future release of LightGBM. Pass 'early_stopping()' callback via 'callbacks' argument instead.\n",
      "  _log_warning(\"'early_stopping_rounds' argument is deprecated and will be removed in a future release of LightGBM. \"\n",
      "/opt/conda/lib/python3.10/site-packages/lightgbm/engine.py:239: UserWarning: 'verbose_eval' argument is deprecated and will be removed in a future release of LightGBM. Pass 'log_evaluation()' callback via 'callbacks' argument instead.\n",
      "  _log_warning(\"'verbose_eval' argument is deprecated and will be removed in a future release of LightGBM. \"\n",
      "[I 2024-04-29 20:20:05,110] Trial 19 finished with value: -0.7448503933386799 and parameters: {'max_depth': 6, 'num_leaves': 72, 'learning_rate': 0.064875856453154, 'feature_fraction': 0.8549132295007762, 'bagging_fraction': 0.5554629009251326, 'bagging_freq': 3}. Best is trial 14 with value: -0.746886025622983.\n",
      "/opt/conda/lib/python3.10/site-packages/lightgbm/engine.py:181: UserWarning: 'early_stopping_rounds' argument is deprecated and will be removed in a future release of LightGBM. Pass 'early_stopping()' callback via 'callbacks' argument instead.\n",
      "  _log_warning(\"'early_stopping_rounds' argument is deprecated and will be removed in a future release of LightGBM. \"\n",
      "/opt/conda/lib/python3.10/site-packages/lightgbm/engine.py:239: UserWarning: 'verbose_eval' argument is deprecated and will be removed in a future release of LightGBM. Pass 'log_evaluation()' callback via 'callbacks' argument instead.\n",
      "  _log_warning(\"'verbose_eval' argument is deprecated and will be removed in a future release of LightGBM. \"\n",
      "[I 2024-04-29 20:20:35,191] Trial 20 finished with value: -0.7458041206325716 and parameters: {'max_depth': 7, 'num_leaves': 94, 'learning_rate': 0.041784560138744015, 'feature_fraction': 0.9309958094488234, 'bagging_fraction': 0.7342568652190877, 'bagging_freq': 3}. Best is trial 14 with value: -0.746886025622983.\n",
      "/opt/conda/lib/python3.10/site-packages/lightgbm/engine.py:181: UserWarning: 'early_stopping_rounds' argument is deprecated and will be removed in a future release of LightGBM. Pass 'early_stopping()' callback via 'callbacks' argument instead.\n",
      "  _log_warning(\"'early_stopping_rounds' argument is deprecated and will be removed in a future release of LightGBM. \"\n",
      "/opt/conda/lib/python3.10/site-packages/lightgbm/engine.py:239: UserWarning: 'verbose_eval' argument is deprecated and will be removed in a future release of LightGBM. Pass 'log_evaluation()' callback via 'callbacks' argument instead.\n",
      "  _log_warning(\"'verbose_eval' argument is deprecated and will be removed in a future release of LightGBM. \"\n",
      "[I 2024-04-29 20:20:56,347] Trial 21 finished with value: -0.7471248883122488 and parameters: {'max_depth': 5, 'num_leaves': 83, 'learning_rate': 0.09949115971099055, 'feature_fraction': 0.8866171055182194, 'bagging_fraction': 0.5982827356382053, 'bagging_freq': 2}. Best is trial 21 with value: -0.7471248883122488.\n",
      "/opt/conda/lib/python3.10/site-packages/lightgbm/engine.py:181: UserWarning: 'early_stopping_rounds' argument is deprecated and will be removed in a future release of LightGBM. Pass 'early_stopping()' callback via 'callbacks' argument instead.\n",
      "  _log_warning(\"'early_stopping_rounds' argument is deprecated and will be removed in a future release of LightGBM. \"\n",
      "/opt/conda/lib/python3.10/site-packages/lightgbm/engine.py:239: UserWarning: 'verbose_eval' argument is deprecated and will be removed in a future release of LightGBM. Pass 'log_evaluation()' callback via 'callbacks' argument instead.\n",
      "  _log_warning(\"'verbose_eval' argument is deprecated and will be removed in a future release of LightGBM. \"\n",
      "[I 2024-04-29 20:21:13,122] Trial 22 finished with value: -0.7376193140310183 and parameters: {'max_depth': 4, 'num_leaves': 88, 'learning_rate': 0.06738029390986772, 'feature_fraction': 0.7718600817132869, 'bagging_fraction': 0.9916008867403179, 'bagging_freq': 1}. Best is trial 21 with value: -0.7471248883122488.\n",
      "/opt/conda/lib/python3.10/site-packages/lightgbm/engine.py:181: UserWarning: 'early_stopping_rounds' argument is deprecated and will be removed in a future release of LightGBM. Pass 'early_stopping()' callback via 'callbacks' argument instead.\n",
      "  _log_warning(\"'early_stopping_rounds' argument is deprecated and will be removed in a future release of LightGBM. \"\n",
      "/opt/conda/lib/python3.10/site-packages/lightgbm/engine.py:239: UserWarning: 'verbose_eval' argument is deprecated and will be removed in a future release of LightGBM. Pass 'log_evaluation()' callback via 'callbacks' argument instead.\n",
      "  _log_warning(\"'verbose_eval' argument is deprecated and will be removed in a future release of LightGBM. \"\n",
      "[I 2024-04-29 20:21:32,366] Trial 23 finished with value: -0.7418990365708433 and parameters: {'max_depth': 4, 'num_leaves': 100, 'learning_rate': 0.08851473528670165, 'feature_fraction': 0.8895603537887172, 'bagging_fraction': 0.6274572524594865, 'bagging_freq': 2}. Best is trial 21 with value: -0.7471248883122488.\n",
      "/opt/conda/lib/python3.10/site-packages/lightgbm/engine.py:181: UserWarning: 'early_stopping_rounds' argument is deprecated and will be removed in a future release of LightGBM. Pass 'early_stopping()' callback via 'callbacks' argument instead.\n",
      "  _log_warning(\"'early_stopping_rounds' argument is deprecated and will be removed in a future release of LightGBM. \"\n",
      "/opt/conda/lib/python3.10/site-packages/lightgbm/engine.py:239: UserWarning: 'verbose_eval' argument is deprecated and will be removed in a future release of LightGBM. Pass 'log_evaluation()' callback via 'callbacks' argument instead.\n",
      "  _log_warning(\"'verbose_eval' argument is deprecated and will be removed in a future release of LightGBM. \"\n",
      "[I 2024-04-29 20:21:58,323] Trial 24 finished with value: -0.746156709520158 and parameters: {'max_depth': 7, 'num_leaves': 84, 'learning_rate': 0.05443771403128771, 'feature_fraction': 0.8258537760917841, 'bagging_fraction': 0.5583560842091357, 'bagging_freq': 5}. Best is trial 21 with value: -0.7471248883122488.\n",
      "/opt/conda/lib/python3.10/site-packages/lightgbm/engine.py:181: UserWarning: 'early_stopping_rounds' argument is deprecated and will be removed in a future release of LightGBM. Pass 'early_stopping()' callback via 'callbacks' argument instead.\n",
      "  _log_warning(\"'early_stopping_rounds' argument is deprecated and will be removed in a future release of LightGBM. \"\n",
      "/opt/conda/lib/python3.10/site-packages/lightgbm/engine.py:239: UserWarning: 'verbose_eval' argument is deprecated and will be removed in a future release of LightGBM. Pass 'log_evaluation()' callback via 'callbacks' argument instead.\n",
      "  _log_warning(\"'verbose_eval' argument is deprecated and will be removed in a future release of LightGBM. \"\n",
      "[I 2024-04-29 20:22:22,795] Trial 25 finished with value: -0.7383172196148593 and parameters: {'max_depth': 6, 'num_leaves': 94, 'learning_rate': 0.03224036232735939, 'feature_fraction': 0.9334431622226776, 'bagging_fraction': 0.571676480451216, 'bagging_freq': 3}. Best is trial 21 with value: -0.7471248883122488.\n",
      "/opt/conda/lib/python3.10/site-packages/lightgbm/engine.py:181: UserWarning: 'early_stopping_rounds' argument is deprecated and will be removed in a future release of LightGBM. Pass 'early_stopping()' callback via 'callbacks' argument instead.\n",
      "  _log_warning(\"'early_stopping_rounds' argument is deprecated and will be removed in a future release of LightGBM. \"\n",
      "/opt/conda/lib/python3.10/site-packages/lightgbm/engine.py:239: UserWarning: 'verbose_eval' argument is deprecated and will be removed in a future release of LightGBM. Pass 'log_evaluation()' callback via 'callbacks' argument instead.\n",
      "  _log_warning(\"'verbose_eval' argument is deprecated and will be removed in a future release of LightGBM. \"\n",
      "[I 2024-04-29 20:22:40,633] Trial 26 finished with value: -0.7217636112374208 and parameters: {'max_depth': 5, 'num_leaves': 74, 'learning_rate': 0.0180643211422097, 'feature_fraction': 0.8062629935503828, 'bagging_fraction': 0.6387314988734123, 'bagging_freq': 1}. Best is trial 21 with value: -0.7471248883122488.\n",
      "/opt/conda/lib/python3.10/site-packages/lightgbm/engine.py:181: UserWarning: 'early_stopping_rounds' argument is deprecated and will be removed in a future release of LightGBM. Pass 'early_stopping()' callback via 'callbacks' argument instead.\n",
      "  _log_warning(\"'early_stopping_rounds' argument is deprecated and will be removed in a future release of LightGBM. \"\n",
      "/opt/conda/lib/python3.10/site-packages/lightgbm/engine.py:239: UserWarning: 'verbose_eval' argument is deprecated and will be removed in a future release of LightGBM. Pass 'log_evaluation()' callback via 'callbacks' argument instead.\n",
      "  _log_warning(\"'verbose_eval' argument is deprecated and will be removed in a future release of LightGBM. \"\n",
      "[I 2024-04-29 20:23:03,958] Trial 27 finished with value: -0.7469147117099977 and parameters: {'max_depth': 6, 'num_leaves': 91, 'learning_rate': 0.07738701260676754, 'feature_fraction': 0.983248394857869, 'bagging_fraction': 0.5326282686845109, 'bagging_freq': 2}. Best is trial 21 with value: -0.7471248883122488.\n",
      "/opt/conda/lib/python3.10/site-packages/lightgbm/engine.py:181: UserWarning: 'early_stopping_rounds' argument is deprecated and will be removed in a future release of LightGBM. Pass 'early_stopping()' callback via 'callbacks' argument instead.\n",
      "  _log_warning(\"'early_stopping_rounds' argument is deprecated and will be removed in a future release of LightGBM. \"\n",
      "/opt/conda/lib/python3.10/site-packages/lightgbm/engine.py:239: UserWarning: 'verbose_eval' argument is deprecated and will be removed in a future release of LightGBM. Pass 'log_evaluation()' callback via 'callbacks' argument instead.\n",
      "  _log_warning(\"'verbose_eval' argument is deprecated and will be removed in a future release of LightGBM. \"\n",
      "[I 2024-04-29 20:23:23,086] Trial 28 finished with value: -0.7309200986795953 and parameters: {'max_depth': 4, 'num_leaves': 62, 'learning_rate': 0.04269455592473118, 'feature_fraction': 0.9911061170270536, 'bagging_fraction': 0.7373648030570898, 'bagging_freq': 2}. Best is trial 21 with value: -0.7471248883122488.\n",
      "/opt/conda/lib/python3.10/site-packages/lightgbm/engine.py:181: UserWarning: 'early_stopping_rounds' argument is deprecated and will be removed in a future release of LightGBM. Pass 'early_stopping()' callback via 'callbacks' argument instead.\n",
      "  _log_warning(\"'early_stopping_rounds' argument is deprecated and will be removed in a future release of LightGBM. \"\n",
      "/opt/conda/lib/python3.10/site-packages/lightgbm/engine.py:239: UserWarning: 'verbose_eval' argument is deprecated and will be removed in a future release of LightGBM. Pass 'log_evaluation()' callback via 'callbacks' argument instead.\n",
      "  _log_warning(\"'verbose_eval' argument is deprecated and will be removed in a future release of LightGBM. \"\n",
      "[I 2024-04-29 20:23:47,184] Trial 29 finished with value: -0.7408293151943828 and parameters: {'max_depth': 8, 'num_leaves': 46, 'learning_rate': 0.03245536771035722, 'feature_fraction': 0.9985135860428621, 'bagging_fraction': 0.6663171753073964, 'bagging_freq': 9}. Best is trial 21 with value: -0.7471248883122488.\n",
      "/opt/conda/lib/python3.10/site-packages/lightgbm/engine.py:181: UserWarning: 'early_stopping_rounds' argument is deprecated and will be removed in a future release of LightGBM. Pass 'early_stopping()' callback via 'callbacks' argument instead.\n",
      "  _log_warning(\"'early_stopping_rounds' argument is deprecated and will be removed in a future release of LightGBM. \"\n",
      "/opt/conda/lib/python3.10/site-packages/lightgbm/engine.py:239: UserWarning: 'verbose_eval' argument is deprecated and will be removed in a future release of LightGBM. Pass 'log_evaluation()' callback via 'callbacks' argument instead.\n",
      "  _log_warning(\"'verbose_eval' argument is deprecated and will be removed in a future release of LightGBM. \"\n",
      "[I 2024-04-29 20:24:02,163] Trial 30 finished with value: -0.6901903448922913 and parameters: {'max_depth': 3, 'num_leaves': 92, 'learning_rate': 0.014550916168915268, 'feature_fraction': 0.9087732953462431, 'bagging_fraction': 0.5939073047397121, 'bagging_freq': 5}. Best is trial 21 with value: -0.7471248883122488.\n",
      "/opt/conda/lib/python3.10/site-packages/lightgbm/engine.py:181: UserWarning: 'early_stopping_rounds' argument is deprecated and will be removed in a future release of LightGBM. Pass 'early_stopping()' callback via 'callbacks' argument instead.\n",
      "  _log_warning(\"'early_stopping_rounds' argument is deprecated and will be removed in a future release of LightGBM. \"\n",
      "/opt/conda/lib/python3.10/site-packages/lightgbm/engine.py:239: UserWarning: 'verbose_eval' argument is deprecated and will be removed in a future release of LightGBM. Pass 'log_evaluation()' callback via 'callbacks' argument instead.\n",
      "  _log_warning(\"'verbose_eval' argument is deprecated and will be removed in a future release of LightGBM. \"\n",
      "[I 2024-04-29 20:24:24,238] Trial 31 finished with value: -0.7471986870768518 and parameters: {'max_depth': 6, 'num_leaves': 92, 'learning_rate': 0.07717516775084561, 'feature_fraction': 0.9594229798880287, 'bagging_fraction': 0.5339251722614545, 'bagging_freq': 3}. Best is trial 31 with value: -0.7471986870768518.\n",
      "/opt/conda/lib/python3.10/site-packages/lightgbm/engine.py:181: UserWarning: 'early_stopping_rounds' argument is deprecated and will be removed in a future release of LightGBM. Pass 'early_stopping()' callback via 'callbacks' argument instead.\n",
      "  _log_warning(\"'early_stopping_rounds' argument is deprecated and will be removed in a future release of LightGBM. \"\n",
      "/opt/conda/lib/python3.10/site-packages/lightgbm/engine.py:239: UserWarning: 'verbose_eval' argument is deprecated and will be removed in a future release of LightGBM. Pass 'log_evaluation()' callback via 'callbacks' argument instead.\n",
      "  _log_warning(\"'verbose_eval' argument is deprecated and will be removed in a future release of LightGBM. \"\n",
      "[I 2024-04-29 20:24:50,599] Trial 32 finished with value: -0.7474849285382729 and parameters: {'max_depth': 7, 'num_leaves': 83, 'learning_rate': 0.06256962116950712, 'feature_fraction': 0.9616470922382395, 'bagging_fraction': 0.5460033489825369, 'bagging_freq': 2}. Best is trial 32 with value: -0.7474849285382729.\n",
      "/opt/conda/lib/python3.10/site-packages/lightgbm/engine.py:181: UserWarning: 'early_stopping_rounds' argument is deprecated and will be removed in a future release of LightGBM. Pass 'early_stopping()' callback via 'callbacks' argument instead.\n",
      "  _log_warning(\"'early_stopping_rounds' argument is deprecated and will be removed in a future release of LightGBM. \"\n",
      "/opt/conda/lib/python3.10/site-packages/lightgbm/engine.py:239: UserWarning: 'verbose_eval' argument is deprecated and will be removed in a future release of LightGBM. Pass 'log_evaluation()' callback via 'callbacks' argument instead.\n",
      "  _log_warning(\"'verbose_eval' argument is deprecated and will be removed in a future release of LightGBM. \"\n",
      "[I 2024-04-29 20:25:14,099] Trial 33 finished with value: -0.7483041761305913 and parameters: {'max_depth': 7, 'num_leaves': 70, 'learning_rate': 0.05761689949806386, 'feature_fraction': 0.9623383197387403, 'bagging_fraction': 0.5374275848524517, 'bagging_freq': 1}. Best is trial 33 with value: -0.7483041761305913.\n",
      "/opt/conda/lib/python3.10/site-packages/lightgbm/engine.py:181: UserWarning: 'early_stopping_rounds' argument is deprecated and will be removed in a future release of LightGBM. Pass 'early_stopping()' callback via 'callbacks' argument instead.\n",
      "  _log_warning(\"'early_stopping_rounds' argument is deprecated and will be removed in a future release of LightGBM. \"\n",
      "/opt/conda/lib/python3.10/site-packages/lightgbm/engine.py:239: UserWarning: 'verbose_eval' argument is deprecated and will be removed in a future release of LightGBM. Pass 'log_evaluation()' callback via 'callbacks' argument instead.\n",
      "  _log_warning(\"'verbose_eval' argument is deprecated and will be removed in a future release of LightGBM. \"\n",
      "[I 2024-04-29 20:25:37,738] Trial 34 finished with value: -0.7482513592325858 and parameters: {'max_depth': 7, 'num_leaves': 68, 'learning_rate': 0.055612912222748466, 'feature_fraction': 0.9549502640931453, 'bagging_fraction': 0.5458795739257558, 'bagging_freq': 1}. Best is trial 33 with value: -0.7483041761305913.\n",
      "/opt/conda/lib/python3.10/site-packages/lightgbm/engine.py:181: UserWarning: 'early_stopping_rounds' argument is deprecated and will be removed in a future release of LightGBM. Pass 'early_stopping()' callback via 'callbacks' argument instead.\n",
      "  _log_warning(\"'early_stopping_rounds' argument is deprecated and will be removed in a future release of LightGBM. \"\n",
      "/opt/conda/lib/python3.10/site-packages/lightgbm/engine.py:239: UserWarning: 'verbose_eval' argument is deprecated and will be removed in a future release of LightGBM. Pass 'log_evaluation()' callback via 'callbacks' argument instead.\n",
      "  _log_warning(\"'verbose_eval' argument is deprecated and will be removed in a future release of LightGBM. \"\n",
      "[I 2024-04-29 20:26:01,824] Trial 35 finished with value: -0.7495470867641615 and parameters: {'max_depth': 9, 'num_leaves': 66, 'learning_rate': 0.05446872968581221, 'feature_fraction': 0.9537659321417306, 'bagging_fraction': 0.5430195933663348, 'bagging_freq': 1}. Best is trial 35 with value: -0.7495470867641615.\n",
      "/opt/conda/lib/python3.10/site-packages/lightgbm/engine.py:181: UserWarning: 'early_stopping_rounds' argument is deprecated and will be removed in a future release of LightGBM. Pass 'early_stopping()' callback via 'callbacks' argument instead.\n",
      "  _log_warning(\"'early_stopping_rounds' argument is deprecated and will be removed in a future release of LightGBM. \"\n",
      "/opt/conda/lib/python3.10/site-packages/lightgbm/engine.py:239: UserWarning: 'verbose_eval' argument is deprecated and will be removed in a future release of LightGBM. Pass 'log_evaluation()' callback via 'callbacks' argument instead.\n",
      "  _log_warning(\"'verbose_eval' argument is deprecated and will be removed in a future release of LightGBM. \"\n",
      "[I 2024-04-29 20:26:26,608] Trial 36 finished with value: -0.749929156894201 and parameters: {'max_depth': 8, 'num_leaves': 67, 'learning_rate': 0.056181930795033065, 'feature_fraction': 0.9594456364516349, 'bagging_fraction': 0.6409069534980174, 'bagging_freq': 1}. Best is trial 36 with value: -0.749929156894201.\n",
      "/opt/conda/lib/python3.10/site-packages/lightgbm/engine.py:181: UserWarning: 'early_stopping_rounds' argument is deprecated and will be removed in a future release of LightGBM. Pass 'early_stopping()' callback via 'callbacks' argument instead.\n",
      "  _log_warning(\"'early_stopping_rounds' argument is deprecated and will be removed in a future release of LightGBM. \"\n",
      "/opt/conda/lib/python3.10/site-packages/lightgbm/engine.py:239: UserWarning: 'verbose_eval' argument is deprecated and will be removed in a future release of LightGBM. Pass 'log_evaluation()' callback via 'callbacks' argument instead.\n",
      "  _log_warning(\"'verbose_eval' argument is deprecated and will be removed in a future release of LightGBM. \"\n",
      "[I 2024-04-29 20:26:53,120] Trial 37 finished with value: -0.7423572692766565 and parameters: {'max_depth': 9, 'num_leaves': 68, 'learning_rate': 0.028978664572881077, 'feature_fraction': 0.9384154949434365, 'bagging_fraction': 0.651423753479861, 'bagging_freq': 1}. Best is trial 36 with value: -0.749929156894201.\n",
      "/opt/conda/lib/python3.10/site-packages/lightgbm/engine.py:181: UserWarning: 'early_stopping_rounds' argument is deprecated and will be removed in a future release of LightGBM. Pass 'early_stopping()' callback via 'callbacks' argument instead.\n",
      "  _log_warning(\"'early_stopping_rounds' argument is deprecated and will be removed in a future release of LightGBM. \"\n",
      "/opt/conda/lib/python3.10/site-packages/lightgbm/engine.py:239: UserWarning: 'verbose_eval' argument is deprecated and will be removed in a future release of LightGBM. Pass 'log_evaluation()' callback via 'callbacks' argument instead.\n",
      "  _log_warning(\"'verbose_eval' argument is deprecated and will be removed in a future release of LightGBM. \"\n",
      "[I 2024-04-29 20:27:18,542] Trial 38 finished with value: -0.7164873286012297 and parameters: {'max_depth': 8, 'num_leaves': 57, 'learning_rate': 0.006974108567238741, 'feature_fraction': 0.9681432340349027, 'bagging_fraction': 0.7098462871667645, 'bagging_freq': 1}. Best is trial 36 with value: -0.749929156894201.\n",
      "/opt/conda/lib/python3.10/site-packages/lightgbm/engine.py:181: UserWarning: 'early_stopping_rounds' argument is deprecated and will be removed in a future release of LightGBM. Pass 'early_stopping()' callback via 'callbacks' argument instead.\n",
      "  _log_warning(\"'early_stopping_rounds' argument is deprecated and will be removed in a future release of LightGBM. \"\n",
      "/opt/conda/lib/python3.10/site-packages/lightgbm/engine.py:239: UserWarning: 'verbose_eval' argument is deprecated and will be removed in a future release of LightGBM. Pass 'log_evaluation()' callback via 'callbacks' argument instead.\n",
      "  _log_warning(\"'verbose_eval' argument is deprecated and will be removed in a future release of LightGBM. \"\n",
      "[I 2024-04-29 20:27:44,695] Trial 39 finished with value: -0.7457869044345722 and parameters: {'max_depth': 9, 'num_leaves': 65, 'learning_rate': 0.0379155658086033, 'feature_fraction': 0.9119721122350234, 'bagging_fraction': 0.5759301435327441, 'bagging_freq': 1}. Best is trial 36 with value: -0.749929156894201.\n",
      "/opt/conda/lib/python3.10/site-packages/lightgbm/engine.py:181: UserWarning: 'early_stopping_rounds' argument is deprecated and will be removed in a future release of LightGBM. Pass 'early_stopping()' callback via 'callbacks' argument instead.\n",
      "  _log_warning(\"'early_stopping_rounds' argument is deprecated and will be removed in a future release of LightGBM. \"\n",
      "/opt/conda/lib/python3.10/site-packages/lightgbm/engine.py:239: UserWarning: 'verbose_eval' argument is deprecated and will be removed in a future release of LightGBM. Pass 'log_evaluation()' callback via 'callbacks' argument instead.\n",
      "  _log_warning(\"'verbose_eval' argument is deprecated and will be removed in a future release of LightGBM. \"\n",
      "[I 2024-04-29 20:28:13,201] Trial 40 finished with value: -0.7484861355423499 and parameters: {'max_depth': 8, 'num_leaves': 61, 'learning_rate': 0.05504819570854614, 'feature_fraction': 0.9388497157361032, 'bagging_fraction': 0.7684477273092205, 'bagging_freq': 8}. Best is trial 36 with value: -0.749929156894201.\n",
      "/opt/conda/lib/python3.10/site-packages/lightgbm/engine.py:181: UserWarning: 'early_stopping_rounds' argument is deprecated and will be removed in a future release of LightGBM. Pass 'early_stopping()' callback via 'callbacks' argument instead.\n",
      "  _log_warning(\"'early_stopping_rounds' argument is deprecated and will be removed in a future release of LightGBM. \"\n",
      "/opt/conda/lib/python3.10/site-packages/lightgbm/engine.py:239: UserWarning: 'verbose_eval' argument is deprecated and will be removed in a future release of LightGBM. Pass 'log_evaluation()' callback via 'callbacks' argument instead.\n",
      "  _log_warning(\"'verbose_eval' argument is deprecated and will be removed in a future release of LightGBM. \"\n",
      "[I 2024-04-29 20:28:40,146] Trial 41 finished with value: -0.7481778110233763 and parameters: {'max_depth': 8, 'num_leaves': 61, 'learning_rate': 0.05358455698762795, 'feature_fraction': 0.9476714376785779, 'bagging_fraction': 0.7762529212816183, 'bagging_freq': 8}. Best is trial 36 with value: -0.749929156894201.\n",
      "/opt/conda/lib/python3.10/site-packages/lightgbm/engine.py:181: UserWarning: 'early_stopping_rounds' argument is deprecated and will be removed in a future release of LightGBM. Pass 'early_stopping()' callback via 'callbacks' argument instead.\n",
      "  _log_warning(\"'early_stopping_rounds' argument is deprecated and will be removed in a future release of LightGBM. \"\n",
      "/opt/conda/lib/python3.10/site-packages/lightgbm/engine.py:239: UserWarning: 'verbose_eval' argument is deprecated and will be removed in a future release of LightGBM. Pass 'log_evaluation()' callback via 'callbacks' argument instead.\n",
      "  _log_warning(\"'verbose_eval' argument is deprecated and will be removed in a future release of LightGBM. \"\n",
      "[I 2024-04-29 20:29:05,869] Trial 42 finished with value: -0.7480446351046905 and parameters: {'max_depth': 8, 'num_leaves': 43, 'learning_rate': 0.05510403344895699, 'feature_fraction': 0.9774735064973464, 'bagging_fraction': 0.813858895748315, 'bagging_freq': 8}. Best is trial 36 with value: -0.749929156894201.\n",
      "/opt/conda/lib/python3.10/site-packages/lightgbm/engine.py:181: UserWarning: 'early_stopping_rounds' argument is deprecated and will be removed in a future release of LightGBM. Pass 'early_stopping()' callback via 'callbacks' argument instead.\n",
      "  _log_warning(\"'early_stopping_rounds' argument is deprecated and will be removed in a future release of LightGBM. \"\n",
      "/opt/conda/lib/python3.10/site-packages/lightgbm/engine.py:239: UserWarning: 'verbose_eval' argument is deprecated and will be removed in a future release of LightGBM. Pass 'log_evaluation()' callback via 'callbacks' argument instead.\n",
      "  _log_warning(\"'verbose_eval' argument is deprecated and will be removed in a future release of LightGBM. \"\n",
      "[I 2024-04-29 20:29:36,517] Trial 43 finished with value: -0.7469167932884142 and parameters: {'max_depth': 9, 'num_leaves': 71, 'learning_rate': 0.0386635798176648, 'feature_fraction': 0.9101655528377457, 'bagging_fraction': 0.8226373557731402, 'bagging_freq': 6}. Best is trial 36 with value: -0.749929156894201.\n",
      "/opt/conda/lib/python3.10/site-packages/lightgbm/engine.py:181: UserWarning: 'early_stopping_rounds' argument is deprecated and will be removed in a future release of LightGBM. Pass 'early_stopping()' callback via 'callbacks' argument instead.\n",
      "  _log_warning(\"'early_stopping_rounds' argument is deprecated and will be removed in a future release of LightGBM. \"\n",
      "/opt/conda/lib/python3.10/site-packages/lightgbm/engine.py:239: UserWarning: 'verbose_eval' argument is deprecated and will be removed in a future release of LightGBM. Pass 'log_evaluation()' callback via 'callbacks' argument instead.\n",
      "  _log_warning(\"'verbose_eval' argument is deprecated and will be removed in a future release of LightGBM. \"\n",
      "[I 2024-04-29 20:30:00,260] Trial 44 finished with value: -0.7464445242904827 and parameters: {'max_depth': 7, 'num_leaves': 67, 'learning_rate': 0.04702317744708023, 'feature_fraction': 0.8688664802804406, 'bagging_fraction': 0.621946851752307, 'bagging_freq': 1}. Best is trial 36 with value: -0.749929156894201.\n",
      "/opt/conda/lib/python3.10/site-packages/lightgbm/engine.py:181: UserWarning: 'early_stopping_rounds' argument is deprecated and will be removed in a future release of LightGBM. Pass 'early_stopping()' callback via 'callbacks' argument instead.\n",
      "  _log_warning(\"'early_stopping_rounds' argument is deprecated and will be removed in a future release of LightGBM. \"\n",
      "/opt/conda/lib/python3.10/site-packages/lightgbm/engine.py:239: UserWarning: 'verbose_eval' argument is deprecated and will be removed in a future release of LightGBM. Pass 'log_evaluation()' callback via 'callbacks' argument instead.\n",
      "  _log_warning(\"'verbose_eval' argument is deprecated and will be removed in a future release of LightGBM. \"\n",
      "[I 2024-04-29 20:30:26,973] Trial 45 finished with value: -0.7389052428780543 and parameters: {'max_depth': 9, 'num_leaves': 53, 'learning_rate': 0.025920656801161377, 'feature_fraction': 0.5000113630356802, 'bagging_fraction': 0.6061973876228364, 'bagging_freq': 10}. Best is trial 36 with value: -0.749929156894201.\n",
      "/opt/conda/lib/python3.10/site-packages/lightgbm/engine.py:181: UserWarning: 'early_stopping_rounds' argument is deprecated and will be removed in a future release of LightGBM. Pass 'early_stopping()' callback via 'callbacks' argument instead.\n",
      "  _log_warning(\"'early_stopping_rounds' argument is deprecated and will be removed in a future release of LightGBM. \"\n",
      "/opt/conda/lib/python3.10/site-packages/lightgbm/engine.py:239: UserWarning: 'verbose_eval' argument is deprecated and will be removed in a future release of LightGBM. Pass 'log_evaluation()' callback via 'callbacks' argument instead.\n",
      "  _log_warning(\"'verbose_eval' argument is deprecated and will be removed in a future release of LightGBM. \"\n",
      "[I 2024-04-29 20:30:56,411] Trial 46 finished with value: -0.7267593496839053 and parameters: {'max_depth': 8, 'num_leaves': 77, 'learning_rate': 0.01124767056347398, 'feature_fraction': 0.9424160993670843, 'bagging_fraction': 0.7115138621983832, 'bagging_freq': 8}. Best is trial 36 with value: -0.749929156894201.\n",
      "/opt/conda/lib/python3.10/site-packages/lightgbm/engine.py:181: UserWarning: 'early_stopping_rounds' argument is deprecated and will be removed in a future release of LightGBM. Pass 'early_stopping()' callback via 'callbacks' argument instead.\n",
      "  _log_warning(\"'early_stopping_rounds' argument is deprecated and will be removed in a future release of LightGBM. \"\n",
      "/opt/conda/lib/python3.10/site-packages/lightgbm/engine.py:239: UserWarning: 'verbose_eval' argument is deprecated and will be removed in a future release of LightGBM. Pass 'log_evaluation()' callback via 'callbacks' argument instead.\n",
      "  _log_warning(\"'verbose_eval' argument is deprecated and will be removed in a future release of LightGBM. \"\n",
      "[I 2024-04-29 20:31:24,140] Trial 47 finished with value: -0.7338067878162129 and parameters: {'max_depth': 7, 'num_leaves': 59, 'learning_rate': 0.021320456584406646, 'feature_fraction': 0.896011579782307, 'bagging_fraction': 0.7666706234664796, 'bagging_freq': 6}. Best is trial 36 with value: -0.749929156894201.\n",
      "/opt/conda/lib/python3.10/site-packages/lightgbm/engine.py:181: UserWarning: 'early_stopping_rounds' argument is deprecated and will be removed in a future release of LightGBM. Pass 'early_stopping()' callback via 'callbacks' argument instead.\n",
      "  _log_warning(\"'early_stopping_rounds' argument is deprecated and will be removed in a future release of LightGBM. \"\n",
      "/opt/conda/lib/python3.10/site-packages/lightgbm/engine.py:239: UserWarning: 'verbose_eval' argument is deprecated and will be removed in a future release of LightGBM. Pass 'log_evaluation()' callback via 'callbacks' argument instead.\n",
      "  _log_warning(\"'verbose_eval' argument is deprecated and will be removed in a future release of LightGBM. \"\n",
      "[I 2024-04-29 20:31:52,254] Trial 48 finished with value: -0.7014979094481211 and parameters: {'max_depth': 9, 'num_leaves': 55, 'learning_rate': 0.0018128269331778603, 'feature_fraction': 0.9965549779911541, 'bagging_fraction': 0.8532589670515476, 'bagging_freq': 9}. Best is trial 36 with value: -0.749929156894201.\n",
      "/opt/conda/lib/python3.10/site-packages/lightgbm/engine.py:181: UserWarning: 'early_stopping_rounds' argument is deprecated and will be removed in a future release of LightGBM. Pass 'early_stopping()' callback via 'callbacks' argument instead.\n",
      "  _log_warning(\"'early_stopping_rounds' argument is deprecated and will be removed in a future release of LightGBM. \"\n",
      "/opt/conda/lib/python3.10/site-packages/lightgbm/engine.py:239: UserWarning: 'verbose_eval' argument is deprecated and will be removed in a future release of LightGBM. Pass 'log_evaluation()' callback via 'callbacks' argument instead.\n",
      "  _log_warning(\"'verbose_eval' argument is deprecated and will be removed in a future release of LightGBM. \"\n",
      "[I 2024-04-29 20:32:15,546] Trial 49 finished with value: -0.743282642648398 and parameters: {'max_depth': 10, 'num_leaves': 40, 'learning_rate': 0.035213971955398916, 'feature_fraction': 0.9252682288320906, 'bagging_fraction': 0.5809401016233645, 'bagging_freq': 1}. Best is trial 36 with value: -0.749929156894201.\n",
      "/opt/conda/lib/python3.10/site-packages/lightgbm/engine.py:181: UserWarning: 'early_stopping_rounds' argument is deprecated and will be removed in a future release of LightGBM. Pass 'early_stopping()' callback via 'callbacks' argument instead.\n",
      "  _log_warning(\"'early_stopping_rounds' argument is deprecated and will be removed in a future release of LightGBM. \"\n",
      "/opt/conda/lib/python3.10/site-packages/lightgbm/engine.py:239: UserWarning: 'verbose_eval' argument is deprecated and will be removed in a future release of LightGBM. Pass 'log_evaluation()' callback via 'callbacks' argument instead.\n",
      "  _log_warning(\"'verbose_eval' argument is deprecated and will be removed in a future release of LightGBM. \"\n",
      "[I 2024-04-29 20:32:45,198] Trial 50 finished with value: -0.7505344155049862 and parameters: {'max_depth': 8, 'num_leaves': 64, 'learning_rate': 0.06504447785834339, 'feature_fraction': 0.7046772494530065, 'bagging_fraction': 0.8853233217400657, 'bagging_freq': 7}. Best is trial 50 with value: -0.7505344155049862.\n",
      "/opt/conda/lib/python3.10/site-packages/lightgbm/engine.py:181: UserWarning: 'early_stopping_rounds' argument is deprecated and will be removed in a future release of LightGBM. Pass 'early_stopping()' callback via 'callbacks' argument instead.\n",
      "  _log_warning(\"'early_stopping_rounds' argument is deprecated and will be removed in a future release of LightGBM. \"\n",
      "/opt/conda/lib/python3.10/site-packages/lightgbm/engine.py:239: UserWarning: 'verbose_eval' argument is deprecated and will be removed in a future release of LightGBM. Pass 'log_evaluation()' callback via 'callbacks' argument instead.\n",
      "  _log_warning(\"'verbose_eval' argument is deprecated and will be removed in a future release of LightGBM. \"\n",
      "[I 2024-04-29 20:33:17,015] Trial 51 finished with value: -0.7515460459713739 and parameters: {'max_depth': 8, 'num_leaves': 69, 'learning_rate': 0.07025127322638866, 'feature_fraction': 0.6969089522913994, 'bagging_fraction': 0.9409563701191322, 'bagging_freq': 7}. Best is trial 51 with value: -0.7515460459713739.\n",
      "/opt/conda/lib/python3.10/site-packages/lightgbm/engine.py:181: UserWarning: 'early_stopping_rounds' argument is deprecated and will be removed in a future release of LightGBM. Pass 'early_stopping()' callback via 'callbacks' argument instead.\n",
      "  _log_warning(\"'early_stopping_rounds' argument is deprecated and will be removed in a future release of LightGBM. \"\n",
      "/opt/conda/lib/python3.10/site-packages/lightgbm/engine.py:239: UserWarning: 'verbose_eval' argument is deprecated and will be removed in a future release of LightGBM. Pass 'log_evaluation()' callback via 'callbacks' argument instead.\n",
      "  _log_warning(\"'verbose_eval' argument is deprecated and will be removed in a future release of LightGBM. \"\n",
      "[I 2024-04-29 20:33:45,169] Trial 52 finished with value: -0.7506516741764203 and parameters: {'max_depth': 8, 'num_leaves': 50, 'learning_rate': 0.06849461349100361, 'feature_fraction': 0.7007765192042875, 'bagging_fraction': 0.8929336811671948, 'bagging_freq': 7}. Best is trial 51 with value: -0.7515460459713739.\n",
      "/opt/conda/lib/python3.10/site-packages/lightgbm/engine.py:181: UserWarning: 'early_stopping_rounds' argument is deprecated and will be removed in a future release of LightGBM. Pass 'early_stopping()' callback via 'callbacks' argument instead.\n",
      "  _log_warning(\"'early_stopping_rounds' argument is deprecated and will be removed in a future release of LightGBM. \"\n",
      "/opt/conda/lib/python3.10/site-packages/lightgbm/engine.py:239: UserWarning: 'verbose_eval' argument is deprecated and will be removed in a future release of LightGBM. Pass 'log_evaluation()' callback via 'callbacks' argument instead.\n",
      "  _log_warning(\"'verbose_eval' argument is deprecated and will be removed in a future release of LightGBM. \"\n",
      "[I 2024-04-29 20:34:14,074] Trial 53 finished with value: -0.7514131666028931 and parameters: {'max_depth': 8, 'num_leaves': 49, 'learning_rate': 0.07739763679455437, 'feature_fraction': 0.6816094027166378, 'bagging_fraction': 0.9050538099051804, 'bagging_freq': 7}. Best is trial 51 with value: -0.7515460459713739.\n",
      "/opt/conda/lib/python3.10/site-packages/lightgbm/engine.py:181: UserWarning: 'early_stopping_rounds' argument is deprecated and will be removed in a future release of LightGBM. Pass 'early_stopping()' callback via 'callbacks' argument instead.\n",
      "  _log_warning(\"'early_stopping_rounds' argument is deprecated and will be removed in a future release of LightGBM. \"\n",
      "/opt/conda/lib/python3.10/site-packages/lightgbm/engine.py:239: UserWarning: 'verbose_eval' argument is deprecated and will be removed in a future release of LightGBM. Pass 'log_evaluation()' callback via 'callbacks' argument instead.\n",
      "  _log_warning(\"'verbose_eval' argument is deprecated and will be removed in a future release of LightGBM. \"\n",
      "[I 2024-04-29 20:34:43,199] Trial 54 finished with value: -0.7520097024855861 and parameters: {'max_depth': 9, 'num_leaves': 52, 'learning_rate': 0.07382820353082248, 'feature_fraction': 0.6847262480112745, 'bagging_fraction': 0.9064840467148204, 'bagging_freq': 7}. Best is trial 54 with value: -0.7520097024855861.\n",
      "/opt/conda/lib/python3.10/site-packages/lightgbm/engine.py:181: UserWarning: 'early_stopping_rounds' argument is deprecated and will be removed in a future release of LightGBM. Pass 'early_stopping()' callback via 'callbacks' argument instead.\n",
      "  _log_warning(\"'early_stopping_rounds' argument is deprecated and will be removed in a future release of LightGBM. \"\n",
      "/opt/conda/lib/python3.10/site-packages/lightgbm/engine.py:239: UserWarning: 'verbose_eval' argument is deprecated and will be removed in a future release of LightGBM. Pass 'log_evaluation()' callback via 'callbacks' argument instead.\n",
      "  _log_warning(\"'verbose_eval' argument is deprecated and will be removed in a future release of LightGBM. \"\n",
      "[I 2024-04-29 20:35:13,151] Trial 55 finished with value: -0.7520619372002377 and parameters: {'max_depth': 10, 'num_leaves': 49, 'learning_rate': 0.0733164420666695, 'feature_fraction': 0.6901506830081521, 'bagging_fraction': 0.9050618943415566, 'bagging_freq': 7}. Best is trial 55 with value: -0.7520619372002377.\n",
      "/opt/conda/lib/python3.10/site-packages/lightgbm/engine.py:181: UserWarning: 'early_stopping_rounds' argument is deprecated and will be removed in a future release of LightGBM. Pass 'early_stopping()' callback via 'callbacks' argument instead.\n",
      "  _log_warning(\"'early_stopping_rounds' argument is deprecated and will be removed in a future release of LightGBM. \"\n",
      "/opt/conda/lib/python3.10/site-packages/lightgbm/engine.py:239: UserWarning: 'verbose_eval' argument is deprecated and will be removed in a future release of LightGBM. Pass 'log_evaluation()' callback via 'callbacks' argument instead.\n",
      "  _log_warning(\"'verbose_eval' argument is deprecated and will be removed in a future release of LightGBM. \"\n",
      "[I 2024-04-29 20:35:43,008] Trial 56 finished with value: -0.7511639769151432 and parameters: {'max_depth': 10, 'num_leaves': 49, 'learning_rate': 0.07356338454114744, 'feature_fraction': 0.6876518218391249, 'bagging_fraction': 0.9077391635022634, 'bagging_freq': 7}. Best is trial 55 with value: -0.7520619372002377.\n",
      "/opt/conda/lib/python3.10/site-packages/lightgbm/engine.py:181: UserWarning: 'early_stopping_rounds' argument is deprecated and will be removed in a future release of LightGBM. Pass 'early_stopping()' callback via 'callbacks' argument instead.\n",
      "  _log_warning(\"'early_stopping_rounds' argument is deprecated and will be removed in a future release of LightGBM. \"\n",
      "/opt/conda/lib/python3.10/site-packages/lightgbm/engine.py:239: UserWarning: 'verbose_eval' argument is deprecated and will be removed in a future release of LightGBM. Pass 'log_evaluation()' callback via 'callbacks' argument instead.\n",
      "  _log_warning(\"'verbose_eval' argument is deprecated and will be removed in a future release of LightGBM. \"\n",
      "[I 2024-04-29 20:36:13,373] Trial 57 finished with value: -0.7524220645837453 and parameters: {'max_depth': 10, 'num_leaves': 49, 'learning_rate': 0.07904172100033731, 'feature_fraction': 0.6375244689005137, 'bagging_fraction': 0.9501474351354173, 'bagging_freq': 7}. Best is trial 57 with value: -0.7524220645837453.\n",
      "/opt/conda/lib/python3.10/site-packages/lightgbm/engine.py:181: UserWarning: 'early_stopping_rounds' argument is deprecated and will be removed in a future release of LightGBM. Pass 'early_stopping()' callback via 'callbacks' argument instead.\n",
      "  _log_warning(\"'early_stopping_rounds' argument is deprecated and will be removed in a future release of LightGBM. \"\n",
      "/opt/conda/lib/python3.10/site-packages/lightgbm/engine.py:239: UserWarning: 'verbose_eval' argument is deprecated and will be removed in a future release of LightGBM. Pass 'log_evaluation()' callback via 'callbacks' argument instead.\n",
      "  _log_warning(\"'verbose_eval' argument is deprecated and will be removed in a future release of LightGBM. \"\n",
      "[I 2024-04-29 20:36:41,854] Trial 58 finished with value: -0.7512462580536288 and parameters: {'max_depth': 10, 'num_leaves': 39, 'learning_rate': 0.0790629318098836, 'feature_fraction': 0.6329655715485657, 'bagging_fraction': 0.9526975813036335, 'bagging_freq': 7}. Best is trial 57 with value: -0.7524220645837453.\n",
      "/opt/conda/lib/python3.10/site-packages/lightgbm/engine.py:181: UserWarning: 'early_stopping_rounds' argument is deprecated and will be removed in a future release of LightGBM. Pass 'early_stopping()' callback via 'callbacks' argument instead.\n",
      "  _log_warning(\"'early_stopping_rounds' argument is deprecated and will be removed in a future release of LightGBM. \"\n",
      "/opt/conda/lib/python3.10/site-packages/lightgbm/engine.py:239: UserWarning: 'verbose_eval' argument is deprecated and will be removed in a future release of LightGBM. Pass 'log_evaluation()' callback via 'callbacks' argument instead.\n",
      "  _log_warning(\"'verbose_eval' argument is deprecated and will be removed in a future release of LightGBM. \"\n",
      "[I 2024-04-29 20:37:08,459] Trial 59 finished with value: -0.7505727522698905 and parameters: {'max_depth': 10, 'num_leaves': 33, 'learning_rate': 0.09371932301068604, 'feature_fraction': 0.6159641413254718, 'bagging_fraction': 0.9456529788897952, 'bagging_freq': 7}. Best is trial 57 with value: -0.7524220645837453.\n",
      "/opt/conda/lib/python3.10/site-packages/lightgbm/engine.py:181: UserWarning: 'early_stopping_rounds' argument is deprecated and will be removed in a future release of LightGBM. Pass 'early_stopping()' callback via 'callbacks' argument instead.\n",
      "  _log_warning(\"'early_stopping_rounds' argument is deprecated and will be removed in a future release of LightGBM. \"\n",
      "/opt/conda/lib/python3.10/site-packages/lightgbm/engine.py:239: UserWarning: 'verbose_eval' argument is deprecated and will be removed in a future release of LightGBM. Pass 'log_evaluation()' callback via 'callbacks' argument instead.\n",
      "  _log_warning(\"'verbose_eval' argument is deprecated and will be removed in a future release of LightGBM. \"\n",
      "[I 2024-04-29 20:37:35,421] Trial 60 finished with value: -0.75154479086782 and parameters: {'max_depth': 10, 'num_leaves': 37, 'learning_rate': 0.0848523912573809, 'feature_fraction': 0.652271155870593, 'bagging_fraction': 0.9475223844335372, 'bagging_freq': 6}. Best is trial 57 with value: -0.7524220645837453.\n",
      "/opt/conda/lib/python3.10/site-packages/lightgbm/engine.py:181: UserWarning: 'early_stopping_rounds' argument is deprecated and will be removed in a future release of LightGBM. Pass 'early_stopping()' callback via 'callbacks' argument instead.\n",
      "  _log_warning(\"'early_stopping_rounds' argument is deprecated and will be removed in a future release of LightGBM. \"\n",
      "/opt/conda/lib/python3.10/site-packages/lightgbm/engine.py:239: UserWarning: 'verbose_eval' argument is deprecated and will be removed in a future release of LightGBM. Pass 'log_evaluation()' callback via 'callbacks' argument instead.\n",
      "  _log_warning(\"'verbose_eval' argument is deprecated and will be removed in a future release of LightGBM. \"\n",
      "[I 2024-04-29 20:38:04,302] Trial 61 finished with value: -0.7511682914790212 and parameters: {'max_depth': 10, 'num_leaves': 37, 'learning_rate': 0.07696711597493346, 'feature_fraction': 0.6544766274052845, 'bagging_fraction': 0.9583538018427071, 'bagging_freq': 6}. Best is trial 57 with value: -0.7524220645837453.\n"
     ]
    },
    {
     "name": "stdout",
     "output_type": "stream",
     "text": [
      "Best hyperparameters:  {'max_depth': 10, 'num_leaves': 49, 'learning_rate': 0.07904172100033731, 'feature_fraction': 0.6375244689005137, 'bagging_fraction': 0.9501474351354173, 'bagging_freq': 7}\n"
     ]
    }
   ],
   "source": [
    "study = optuna.create_study(direction='minimize')\n",
    "study.optimize(objective, n_trials=62)\n",
    "best_params = study.best_trial.params\n",
    "print(\"Best hyperparameters: \", best_params)"
   ]
  },
  {
   "cell_type": "code",
   "execution_count": 18,
   "id": "fc651e6c",
   "metadata": {
    "execution": {
     "iopub.execute_input": "2024-04-29T20:38:04.392591Z",
     "iopub.status.busy": "2024-04-29T20:38:04.392107Z",
     "iopub.status.idle": "2024-04-29T20:38:31.677672Z",
     "shell.execute_reply": "2024-04-29T20:38:31.676565Z"
    },
    "papermill": {
     "duration": 27.315967,
     "end_time": "2024-04-29T20:38:31.680605",
     "exception": false,
     "start_time": "2024-04-29T20:38:04.364638",
     "status": "completed"
    },
    "tags": []
   },
   "outputs": [
    {
     "name": "stderr",
     "output_type": "stream",
     "text": [
      "/opt/conda/lib/python3.10/site-packages/lightgbm/engine.py:181: UserWarning: 'early_stopping_rounds' argument is deprecated and will be removed in a future release of LightGBM. Pass 'early_stopping()' callback via 'callbacks' argument instead.\n",
      "  _log_warning(\"'early_stopping_rounds' argument is deprecated and will be removed in a future release of LightGBM. \"\n"
     ]
    },
    {
     "name": "stdout",
     "output_type": "stream",
     "text": [
      "[LightGBM] [Warning] Auto-choosing row-wise multi-threading, the overhead of testing was 0.202946 seconds.\n",
      "You can set `force_row_wise=true` to remove the overhead.\n",
      "And if memory is not enough, you can set `force_col_wise=true`.\n",
      "[LightGBM] [Info] Total Bins 8980\n",
      "[LightGBM] [Info] Number of data points in the train set: 915995, number of used features: 48\n",
      "[LightGBM] [Info] Start training from score 0.031520\n",
      "[1]\tvalid_0's auc: 0.674208\n",
      "Training until validation scores don't improve for 10 rounds\n",
      "[2]\tvalid_0's auc: 0.685696\n",
      "[3]\tvalid_0's auc: 0.692202\n",
      "[4]\tvalid_0's auc: 0.694528\n",
      "[5]\tvalid_0's auc: 0.698409\n",
      "[6]\tvalid_0's auc: 0.702197\n",
      "[7]\tvalid_0's auc: 0.704532\n",
      "[8]\tvalid_0's auc: 0.705057\n",
      "[9]\tvalid_0's auc: 0.706823\n",
      "[10]\tvalid_0's auc: 0.708467\n",
      "[11]\tvalid_0's auc: 0.711876\n",
      "[12]\tvalid_0's auc: 0.713804\n",
      "[13]\tvalid_0's auc: 0.714788\n",
      "[14]\tvalid_0's auc: 0.715969\n",
      "[15]\tvalid_0's auc: 0.717081\n",
      "[16]\tvalid_0's auc: 0.718543\n",
      "[17]\tvalid_0's auc: 0.719747\n",
      "[18]\tvalid_0's auc: 0.72031\n",
      "[19]\tvalid_0's auc: 0.721102\n",
      "[20]\tvalid_0's auc: 0.722464\n",
      "[21]\tvalid_0's auc: 0.72331\n",
      "[22]\tvalid_0's auc: 0.724877\n",
      "[23]\tvalid_0's auc: 0.725491\n",
      "[24]\tvalid_0's auc: 0.726064\n",
      "[25]\tvalid_0's auc: 0.726376\n",
      "[26]\tvalid_0's auc: 0.727306\n",
      "[27]\tvalid_0's auc: 0.728642\n",
      "[28]\tvalid_0's auc: 0.729451\n",
      "[29]\tvalid_0's auc: 0.730129\n",
      "[30]\tvalid_0's auc: 0.73036\n",
      "[31]\tvalid_0's auc: 0.731012\n",
      "[32]\tvalid_0's auc: 0.731413\n",
      "[33]\tvalid_0's auc: 0.732164\n",
      "[34]\tvalid_0's auc: 0.732396\n",
      "[35]\tvalid_0's auc: 0.732915\n",
      "[36]\tvalid_0's auc: 0.73339\n",
      "[37]\tvalid_0's auc: 0.734069\n",
      "[38]\tvalid_0's auc: 0.734476\n",
      "[39]\tvalid_0's auc: 0.734813\n",
      "[40]\tvalid_0's auc: 0.73514\n",
      "[41]\tvalid_0's auc: 0.735824\n",
      "[42]\tvalid_0's auc: 0.736235\n",
      "[43]\tvalid_0's auc: 0.736461\n",
      "[44]\tvalid_0's auc: 0.736963\n",
      "[45]\tvalid_0's auc: 0.737522\n",
      "[46]\tvalid_0's auc: 0.737897\n",
      "[47]\tvalid_0's auc: 0.738498\n",
      "[48]\tvalid_0's auc: 0.738756\n",
      "[49]\tvalid_0's auc: 0.738995\n",
      "[50]\tvalid_0's auc: 0.739267\n",
      "[51]\tvalid_0's auc: 0.739681\n",
      "[52]\tvalid_0's auc: 0.739861\n",
      "[53]\tvalid_0's auc: 0.740154\n",
      "[54]\tvalid_0's auc: 0.740314\n",
      "[55]\tvalid_0's auc: 0.740461\n",
      "[56]\tvalid_0's auc: 0.740532\n",
      "[57]\tvalid_0's auc: 0.740837\n",
      "[58]\tvalid_0's auc: 0.741011\n",
      "[59]\tvalid_0's auc: 0.741443\n",
      "[60]\tvalid_0's auc: 0.741666\n",
      "[61]\tvalid_0's auc: 0.74176\n",
      "[62]\tvalid_0's auc: 0.741988\n",
      "[63]\tvalid_0's auc: 0.742106\n",
      "[64]\tvalid_0's auc: 0.742155\n",
      "[65]\tvalid_0's auc: 0.742395\n",
      "[66]\tvalid_0's auc: 0.742559\n",
      "[67]\tvalid_0's auc: 0.742689\n",
      "[68]\tvalid_0's auc: 0.742898\n",
      "[69]\tvalid_0's auc: 0.742936\n",
      "[70]\tvalid_0's auc: 0.743034\n",
      "[71]\tvalid_0's auc: 0.743107\n",
      "[72]\tvalid_0's auc: 0.74339\n",
      "[73]\tvalid_0's auc: 0.743486\n",
      "[74]\tvalid_0's auc: 0.743691\n",
      "[75]\tvalid_0's auc: 0.743802\n",
      "[76]\tvalid_0's auc: 0.743927\n",
      "[77]\tvalid_0's auc: 0.74406\n",
      "[78]\tvalid_0's auc: 0.744221\n",
      "[79]\tvalid_0's auc: 0.744404\n",
      "[80]\tvalid_0's auc: 0.74451\n",
      "[81]\tvalid_0's auc: 0.744674\n",
      "[82]\tvalid_0's auc: 0.744793\n",
      "[83]\tvalid_0's auc: 0.744881\n",
      "[84]\tvalid_0's auc: 0.745085\n",
      "[85]\tvalid_0's auc: 0.745196\n",
      "[86]\tvalid_0's auc: 0.745182\n",
      "[87]\tvalid_0's auc: 0.745388\n",
      "[88]\tvalid_0's auc: 0.745498\n",
      "[89]\tvalid_0's auc: 0.745533\n",
      "[90]\tvalid_0's auc: 0.745581\n",
      "[91]\tvalid_0's auc: 0.745699\n",
      "[92]\tvalid_0's auc: 0.745779\n",
      "[93]\tvalid_0's auc: 0.745872\n",
      "[94]\tvalid_0's auc: 0.745973\n",
      "[95]\tvalid_0's auc: 0.745995\n",
      "[96]\tvalid_0's auc: 0.746084\n",
      "[97]\tvalid_0's auc: 0.746324\n",
      "[98]\tvalid_0's auc: 0.746439\n",
      "[99]\tvalid_0's auc: 0.746521\n",
      "[100]\tvalid_0's auc: 0.746881\n",
      "Did not meet early stopping. Best iteration is:\n",
      "[100]\tvalid_0's auc: 0.746881\n"
     ]
    }
   ],
   "source": [
    "# Train the model with the best hyperparameters\n",
    "best_params['metric'] = 'auc'\n",
    "lgb_train = lgb.Dataset(X_train, label=y_train, free_raw_data=False)\n",
    "lgb_valid = lgb.Dataset(X_valid, label=y_valid, reference=lgb_train, free_raw_data=False)\n",
    "\n",
    "gbm = lgb.train(best_params, lgb_train, valid_sets=lgb_valid, early_stopping_rounds=10)\n",
    "\n",
    "# Generate predictions for the test set\n",
    "y_pred = gbm.predict(X_test)"
   ]
  },
  {
   "cell_type": "code",
   "execution_count": 19,
   "id": "c2cef208",
   "metadata": {
    "execution": {
     "iopub.execute_input": "2024-04-29T20:38:31.754033Z",
     "iopub.status.busy": "2024-04-29T20:38:31.752652Z",
     "iopub.status.idle": "2024-04-29T20:38:31.791985Z",
     "shell.execute_reply": "2024-04-29T20:38:31.790802Z"
    },
    "papermill": {
     "duration": 0.080151,
     "end_time": "2024-04-29T20:38:31.794916",
     "exception": false,
     "start_time": "2024-04-29T20:38:31.714765",
     "status": "completed"
    },
    "tags": []
   },
   "outputs": [],
   "source": [
    "# Load the test data\n",
    "X_test = data_submission[cols_pred].to_pandas()\n",
    "X_test = convert_strings(X_test)"
   ]
  },
  {
   "cell_type": "code",
   "execution_count": 20,
   "id": "94264236",
   "metadata": {
    "execution": {
     "iopub.execute_input": "2024-04-29T20:38:31.867813Z",
     "iopub.status.busy": "2024-04-29T20:38:31.866631Z",
     "iopub.status.idle": "2024-04-29T20:38:31.947485Z",
     "shell.execute_reply": "2024-04-29T20:38:31.946325Z"
    },
    "papermill": {
     "duration": 0.120646,
     "end_time": "2024-04-29T20:38:31.950437",
     "exception": false,
     "start_time": "2024-04-29T20:38:31.829791",
     "status": "completed"
    },
    "tags": []
   },
   "outputs": [],
   "source": [
    "# Handle new categories in categorical features\n",
    "cat_cols = X_train.select_dtypes(include=['category']).columns\n",
    "for col in cat_cols:\n",
    "    train_categories = set(X_train[col].cat.categories)\n",
    "    test_categories = set(X_test[col].cat.categories)\n",
    "    new_categories = test_categories - train_categories\n",
    "    X_test.loc[X_test[col].isin(new_categories), col] = \"Unknown\"\n",
    "    new_dtype = pd.CategoricalDtype(categories=train_categories, ordered=True)\n",
    "    X_train[col] = X_train[col].astype(new_dtype)\n",
    "    X_test[col] = X_test[col].astype(new_dtype)"
   ]
  },
  {
   "cell_type": "code",
   "execution_count": 21,
   "id": "3ba6c6b3",
   "metadata": {
    "execution": {
     "iopub.execute_input": "2024-04-29T20:38:32.023353Z",
     "iopub.status.busy": "2024-04-29T20:38:32.022425Z",
     "iopub.status.idle": "2024-04-29T20:38:32.045512Z",
     "shell.execute_reply": "2024-04-29T20:38:32.044355Z"
    },
    "papermill": {
     "duration": 0.063034,
     "end_time": "2024-04-29T20:38:32.048529",
     "exception": false,
     "start_time": "2024-04-29T20:38:31.985495",
     "status": "completed"
    },
    "tags": []
   },
   "outputs": [],
   "source": [
    "# Make predictions\n",
    "y_test_pred = gbm.predict(X_test, num_iteration=gbm.best_iteration)"
   ]
  },
  {
   "cell_type": "code",
   "execution_count": 22,
   "id": "4443deca",
   "metadata": {
    "execution": {
     "iopub.execute_input": "2024-04-29T20:38:32.121541Z",
     "iopub.status.busy": "2024-04-29T20:38:32.120568Z",
     "iopub.status.idle": "2024-04-29T20:38:32.135783Z",
     "shell.execute_reply": "2024-04-29T20:38:32.134652Z"
    },
    "papermill": {
     "duration": 0.054905,
     "end_time": "2024-04-29T20:38:32.138753",
     "exception": false,
     "start_time": "2024-04-29T20:38:32.083848",
     "status": "completed"
    },
    "tags": []
   },
   "outputs": [],
   "source": [
    "submission = pd.DataFrame({\n",
    "    \"case_id\": data_submission[\"case_id\"].to_numpy(),\n",
    "    \"score\": y_test_pred\n",
    "}).set_index('case_id')\n",
    "\n",
    "submission.to_csv(\"submission.csv\")"
   ]
  }
 ],
 "metadata": {
  "kaggle": {
   "accelerator": "none",
   "dataSources": [
    {
     "databundleVersionId": 7921029,
     "sourceId": 50160,
     "sourceType": "competition"
    }
   ],
   "dockerImageVersionId": 30635,
   "isGpuEnabled": false,
   "isInternetEnabled": false,
   "language": "python",
   "sourceType": "notebook"
  },
  "kernelspec": {
   "display_name": "Python 3",
   "language": "python",
   "name": "python3"
  },
  "language_info": {
   "codemirror_mode": {
    "name": "ipython",
    "version": 3
   },
   "file_extension": ".py",
   "mimetype": "text/x-python",
   "name": "python",
   "nbconvert_exporter": "python",
   "pygments_lexer": "ipython3",
   "version": "3.10.12"
  },
  "papermill": {
   "default_parameters": {},
   "duration": 1742.185636,
   "end_time": "2024-04-29T20:38:34.208338",
   "environment_variables": {},
   "exception": null,
   "input_path": "__notebook__.ipynb",
   "output_path": "__notebook__.ipynb",
   "parameters": {},
   "start_time": "2024-04-29T20:09:32.022702",
   "version": "2.4.0"
  }
 },
 "nbformat": 4,
 "nbformat_minor": 5
}
